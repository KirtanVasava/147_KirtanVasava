{
  "nbformat": 4,
  "nbformat_minor": 0,
  "metadata": {
    "colab": {
      "name": "147_Lab5_Task_2.ipynb",
      "provenance": [],
      "authorship_tag": "ABX9TyO/eOhANcKl8QFVW5xjYvf9"
    },
    "kernelspec": {
      "name": "python3",
      "display_name": "Python 3"
    },
    "language_info": {
      "name": "python"
    }
  },
  "cells": [
    {
      "cell_type": "code",
      "metadata": {
        "id": "0Rp4a67v0UCR"
      },
      "source": [
        ""
      ],
      "execution_count": null,
      "outputs": []
    },
    {
      "cell_type": "code",
      "metadata": {
        "_cell_guid": "79c7e3d0-c299-4dcb-8224-4455121ee9b0",
        "_uuid": "d629ff2d2480ee46fbb7e2d37f6b5fab8052498a",
        "id": "v0BtAX1--7l_"
      },
      "source": [
        "# Import Numpy & PyTorch\n",
        "import numpy as np\n",
        "import torch"
      ],
      "execution_count": 1,
      "outputs": []
    },
    {
      "cell_type": "markdown",
      "metadata": {
        "_uuid": "ecc6e79cdfb6a8ca882895ccc895b61b960b0a04",
        "id": "i1HSrBDb-7t9"
      },
      "source": [
        "## Linear Regression Model using PyTorch built-ins\n",
        "\n",
        "Let's re-implement the same model using some built-in functions and classes from PyTorch.\n",
        "\n",
        "And now using two different targets: Apples and Oranges"
      ]
    },
    {
      "cell_type": "code",
      "metadata": {
        "_uuid": "ce66cf0d09a3f38bf2f00ea40418c56d98f1f814",
        "id": "iXiEK54j-7t-"
      },
      "source": [
        "# Imports\n",
        "import torch.nn as nn"
      ],
      "execution_count": 2,
      "outputs": []
    },
    {
      "cell_type": "code",
      "metadata": {
        "_uuid": "74bb18bd01ac809079eeb8d05695206e8ba02069",
        "id": "wCsxgTWO-7uM"
      },
      "source": [
        "# Input (temp, rainfall, humidity)\n",
        "inputs = np.array([[73, 67, 43], [91, 88, 64], [87, 134, 58], [102, 43, 37], [69, 96, 70], [73, 67, 43], [91, 88, 64], [87, 134, 58], [102, 43, 37], [69, 96, 70], [73, 67, 43], [91, 88, 64], [87, 134, 58], [102, 43, 37], [69, 96, 70]], dtype='float32')\n",
        "# Targets (apples, oranges)\n",
        "targets = np.array([[56, 70], [81, 101], [119, 133], [22, 37], [103, 119], \n",
        "                    [56, 70], [81, 101], [119, 133], [22, 37], [103, 119], \n",
        "                    [56, 70], [81, 101], [119, 133], [22, 37], [103, 119]], dtype='float32')"
      ],
      "execution_count": 3,
      "outputs": []
    },
    {
      "cell_type": "code",
      "metadata": {
        "_uuid": "d94b355f55250e9c7dcff668920f02d7c5c04925",
        "id": "nJRlm4-N-7uY"
      },
      "source": [
        "X = torch.from_numpy(inputs)\n",
        "Y = torch.from_numpy(targets)"
      ],
      "execution_count": 4,
      "outputs": []
    },
    {
      "cell_type": "markdown",
      "metadata": {
        "id": "-ywgg_nk0AxF"
      },
      "source": [
        "\n",
        "$$\n",
        "\\hspace{2.5cm} X \\hspace{1.1cm} \\times \\hspace{1.2cm} W^T \\hspace{1.2cm}  + \\hspace{1cm} b \\hspace{2cm}\n",
        "$$\n",
        "\n",
        "$$\n",
        "\\left[ \\begin{array}{cc}\n",
        "73 & 67 & 43 \\\\\n",
        "91 & 88 & 64 \\\\\n",
        "\\vdots & \\vdots & \\vdots \\\\\n",
        "69 & 96 & 70\n",
        "\\end{array} \\right]\n",
        "%\n",
        "\\times\n",
        "%\n",
        "\\left[ \\begin{array}{cc}\n",
        "w_{11}& w_{21} \\\\ \n",
        "w_{12} & w_{22} \\\\\n",
        "w_{13} & w_{23}\\\\\n",
        "\\end{array} \\right]\n",
        "%\n",
        "+\n",
        "%\n",
        "\\left[ \\begin{array}{cc}\n",
        "b_{1} & b_{2}\\\\\n",
        "\\end{array} \\right]\n",
        "$$"
      ]
    },
    {
      "cell_type": "markdown",
      "metadata": {
        "_uuid": "a0665466eb5401f40a816b323a34450b2c052c41",
        "id": "O6JT5Ng6-7uj"
      },
      "source": [
        "### Dataset and DataLoader\n",
        "\n",
        "We'll create a `TensorDataset`, which allows access to rows from `inputs` and `targets` as tuples. We'll also create a DataLoader, to split the data into batches while training. It also provides other utilities like shuffling and sampling."
      ]
    },
    {
      "cell_type": "code",
      "metadata": {
        "_uuid": "206f5fd0473386476b23477bf38d2c327b6376c9",
        "id": "iGYdbuWc-7ul"
      },
      "source": [
        "# Import tensor dataset & data loader\n",
        "from torch.utils.data import TensorDataset, DataLoader"
      ],
      "execution_count": 5,
      "outputs": []
    },
    {
      "cell_type": "code",
      "metadata": {
        "_uuid": "c47a4f2f86fda3918094e01cf7ab0698bbb5acc7",
        "id": "LY_cq6Bf-7ux"
      },
      "source": [
        "# Define dataset\n",
        "dataset = torch.utils.data.TensorDataset(X,Y)"
      ],
      "execution_count": 6,
      "outputs": []
    },
    {
      "cell_type": "code",
      "metadata": {
        "_uuid": "0a2f69126319d738b82ae67d5d404ecd6161bfac",
        "id": "I-_dMpco-7u-"
      },
      "source": [
        "# Define data loader\n",
        "trainloader = torch.utils.data.DataLoader(dataset,batch_size=10)"
      ],
      "execution_count": 7,
      "outputs": []
    },
    {
      "cell_type": "markdown",
      "metadata": {
        "_uuid": "276a262e1b9e3a048bcd32989013f9c501c59037",
        "id": "Dq8gUbVx-7vK"
      },
      "source": [
        "### nn.Linear\n",
        "Instead of initializing the weights & biases manually, we can define the model using `nn.Linear`."
      ]
    },
    {
      "cell_type": "code",
      "metadata": {
        "_uuid": "59da3506559a0640d80d18f77b02726a1757be2f",
        "id": "sKa873ZD-7vN",
        "colab": {
          "base_uri": "https://localhost:8080/"
        },
        "outputId": "f227b3e9-d9f4-496c-f2d6-4080a5bc07be"
      },
      "source": [
        "# Define model\n",
        "model = nn.Linear(X.shape[1],Y.shape[1])\n",
        "print(model.state_dict())\n",
        "model.parameters()"
      ],
      "execution_count": 9,
      "outputs": [
        {
          "output_type": "stream",
          "name": "stdout",
          "text": [
            "OrderedDict([('weight', tensor([[ 0.4827,  0.1309,  0.3063],\n",
            "        [ 0.3904,  0.1613, -0.3601]])), ('bias', tensor([-0.4368,  0.5353]))])\n"
          ]
        },
        {
          "output_type": "execute_result",
          "data": {
            "text/plain": [
              "<generator object Module.parameters at 0x7f9db7b1d1d0>"
            ]
          },
          "metadata": {},
          "execution_count": 9
        }
      ]
    },
    {
      "cell_type": "markdown",
      "metadata": {
        "_uuid": "b3a4a8c499a4680f2533329712de034671dd1cdd",
        "id": "rku14lz3-7vX"
      },
      "source": [
        "### Optimizer\n",
        "Instead of manually manipulating the weights & biases using gradients, we can use the optimizer `optim.SGD`."
      ]
    },
    {
      "cell_type": "code",
      "metadata": {
        "_uuid": "1848398bd1ced8c25a7bb55612cf32a774500280",
        "id": "Yd4H-T8g-7va"
      },
      "source": [
        "# Define optimizer\n",
        "optimizer = torch.optim.SGD(model.parameters(),lr=1e-4)"
      ],
      "execution_count": 10,
      "outputs": []
    },
    {
      "cell_type": "markdown",
      "metadata": {
        "_uuid": "28cbe62be55010bd11b31d819cff38da5a772b18",
        "id": "V2ktEA-C-7vl"
      },
      "source": [
        "### Loss Function\n",
        "Instead of defining a loss function manually, we can use the built-in loss function `mse_loss`."
      ]
    },
    {
      "cell_type": "code",
      "metadata": {
        "_uuid": "69d7f4e8e27ccd077f711da27f8bede8aa711893",
        "id": "TF2xmzgO-7vo"
      },
      "source": [
        "# Import nn.functional\n",
        "import torch.nn.functional as F"
      ],
      "execution_count": 11,
      "outputs": []
    },
    {
      "cell_type": "code",
      "metadata": {
        "_uuid": "a02ff888ed4be720fd9ca376022d8fdcf2559683",
        "id": "hSgxvr8N-7vz"
      },
      "source": [
        "# Define loss function\n",
        "loss_fn = F.mse_loss"
      ],
      "execution_count": 12,
      "outputs": []
    },
    {
      "cell_type": "markdown",
      "metadata": {
        "_uuid": "e833614a69ff18c554a3d89f643ae2f11e0260f6",
        "id": "9jbPdkiO-7wM"
      },
      "source": [
        "### Train the model\n",
        "\n",
        "We are ready to train the model now. We can define a utility function `fit` which trains the model for a given number of epochs."
      ]
    },
    {
      "cell_type": "code",
      "metadata": {
        "_uuid": "128bc7260221f5338edf8b503c75f0c7d1cce7e8",
        "id": "zDnWui7g-7wP"
      },
      "source": [
        "# Define a utility function to train the model\n",
        "def fit(num_epochs, model, loss_fn, opt):\n",
        "    for epoch in range(num_epochs):\n",
        "        for xb,yb in trainloader:\n",
        "            # Generate predictions\n",
        "            pred = model(xb)\n",
        "            loss = loss_fn(yb,pred)\n",
        "            # Perform gradient descent\n",
        "            loss.backward()\n",
        "            opt.step()\n",
        "            opt.zero_grad()\n",
        "        print('Training loss: ', loss_fn(model(X), Y))"
      ],
      "execution_count": 13,
      "outputs": []
    },
    {
      "cell_type": "code",
      "metadata": {
        "_uuid": "ae8ca4686cf6a68f6c9ca93bf3d227abe96c2201",
        "id": "Gd8tiT_q-7wa",
        "colab": {
          "base_uri": "https://localhost:8080/"
        },
        "outputId": "4596c437-ff51-428f-f3d2-eb5f18396898"
      },
      "source": [
        "# Train the model for 100 epochs\n",
        "fit(100 , model , loss_fn, optimizer)"
      ],
      "execution_count": 14,
      "outputs": [
        {
          "output_type": "stream",
          "name": "stdout",
          "text": [
            "Training loss:  tensor(1590.9724, grad_fn=<MseLossBackward>)\n",
            "Training loss:  tensor(878.0040, grad_fn=<MseLossBackward>)\n",
            "Training loss:  tensor(546.3942, grad_fn=<MseLossBackward>)\n",
            "Training loss:  tensor(375.9174, grad_fn=<MseLossBackward>)\n",
            "Training loss:  tensor(277.6564, grad_fn=<MseLossBackward>)\n",
            "Training loss:  tensor(214.7118, grad_fn=<MseLossBackward>)\n",
            "Training loss:  tensor(171.0257, grad_fn=<MseLossBackward>)\n",
            "Training loss:  tensor(139.0691, grad_fn=<MseLossBackward>)\n",
            "Training loss:  tensor(114.9370, grad_fn=<MseLossBackward>)\n",
            "Training loss:  tensor(96.3634, grad_fn=<MseLossBackward>)\n",
            "Training loss:  tensor(81.8932, grad_fn=<MseLossBackward>)\n",
            "Training loss:  tensor(70.5195, grad_fn=<MseLossBackward>)\n",
            "Training loss:  tensor(61.5110, grad_fn=<MseLossBackward>)\n",
            "Training loss:  tensor(54.3219, grad_fn=<MseLossBackward>)\n",
            "Training loss:  tensor(48.5385, grad_fn=<MseLossBackward>)\n",
            "Training loss:  tensor(43.8448, grad_fn=<MseLossBackward>)\n",
            "Training loss:  tensor(39.9980, grad_fn=<MseLossBackward>)\n",
            "Training loss:  tensor(36.8115, grad_fn=<MseLossBackward>)\n",
            "Training loss:  tensor(34.1415, grad_fn=<MseLossBackward>)\n",
            "Training loss:  tensor(31.8769, grad_fn=<MseLossBackward>)\n",
            "Training loss:  tensor(29.9322, grad_fn=<MseLossBackward>)\n",
            "Training loss:  tensor(28.2410, grad_fn=<MseLossBackward>)\n",
            "Training loss:  tensor(26.7522, grad_fn=<MseLossBackward>)\n",
            "Training loss:  tensor(25.4261, grad_fn=<MseLossBackward>)\n",
            "Training loss:  tensor(24.2317, grad_fn=<MseLossBackward>)\n",
            "Training loss:  tensor(23.1451, grad_fn=<MseLossBackward>)\n",
            "Training loss:  tensor(22.1478, grad_fn=<MseLossBackward>)\n",
            "Training loss:  tensor(21.2249, grad_fn=<MseLossBackward>)\n",
            "Training loss:  tensor(20.3653, grad_fn=<MseLossBackward>)\n",
            "Training loss:  tensor(19.5597, grad_fn=<MseLossBackward>)\n",
            "Training loss:  tensor(18.8009, grad_fn=<MseLossBackward>)\n",
            "Training loss:  tensor(18.0835, grad_fn=<MseLossBackward>)\n",
            "Training loss:  tensor(17.4026, grad_fn=<MseLossBackward>)\n",
            "Training loss:  tensor(16.7547, grad_fn=<MseLossBackward>)\n",
            "Training loss:  tensor(16.1367, grad_fn=<MseLossBackward>)\n",
            "Training loss:  tensor(15.5461, grad_fn=<MseLossBackward>)\n",
            "Training loss:  tensor(14.9809, grad_fn=<MseLossBackward>)\n",
            "Training loss:  tensor(14.4392, grad_fn=<MseLossBackward>)\n",
            "Training loss:  tensor(13.9196, grad_fn=<MseLossBackward>)\n",
            "Training loss:  tensor(13.4208, grad_fn=<MseLossBackward>)\n",
            "Training loss:  tensor(12.9416, grad_fn=<MseLossBackward>)\n",
            "Training loss:  tensor(12.4810, grad_fn=<MseLossBackward>)\n",
            "Training loss:  tensor(12.0381, grad_fn=<MseLossBackward>)\n",
            "Training loss:  tensor(11.6121, grad_fn=<MseLossBackward>)\n",
            "Training loss:  tensor(11.2022, grad_fn=<MseLossBackward>)\n",
            "Training loss:  tensor(10.8078, grad_fn=<MseLossBackward>)\n",
            "Training loss:  tensor(10.4281, grad_fn=<MseLossBackward>)\n",
            "Training loss:  tensor(10.0627, grad_fn=<MseLossBackward>)\n",
            "Training loss:  tensor(9.7108, grad_fn=<MseLossBackward>)\n",
            "Training loss:  tensor(9.3720, grad_fn=<MseLossBackward>)\n",
            "Training loss:  tensor(9.0458, grad_fn=<MseLossBackward>)\n",
            "Training loss:  tensor(8.7317, grad_fn=<MseLossBackward>)\n",
            "Training loss:  tensor(8.4291, grad_fn=<MseLossBackward>)\n",
            "Training loss:  tensor(8.1378, grad_fn=<MseLossBackward>)\n",
            "Training loss:  tensor(7.8572, grad_fn=<MseLossBackward>)\n",
            "Training loss:  tensor(7.5870, grad_fn=<MseLossBackward>)\n",
            "Training loss:  tensor(7.3267, grad_fn=<MseLossBackward>)\n",
            "Training loss:  tensor(7.0760, grad_fn=<MseLossBackward>)\n",
            "Training loss:  tensor(6.8346, grad_fn=<MseLossBackward>)\n",
            "Training loss:  tensor(6.6021, grad_fn=<MseLossBackward>)\n",
            "Training loss:  tensor(6.3781, grad_fn=<MseLossBackward>)\n",
            "Training loss:  tensor(6.1624, grad_fn=<MseLossBackward>)\n",
            "Training loss:  tensor(5.9547, grad_fn=<MseLossBackward>)\n",
            "Training loss:  tensor(5.7546, grad_fn=<MseLossBackward>)\n",
            "Training loss:  tensor(5.5618, grad_fn=<MseLossBackward>)\n",
            "Training loss:  tensor(5.3762, grad_fn=<MseLossBackward>)\n",
            "Training loss:  tensor(5.1974, grad_fn=<MseLossBackward>)\n",
            "Training loss:  tensor(5.0252, grad_fn=<MseLossBackward>)\n",
            "Training loss:  tensor(4.8593, grad_fn=<MseLossBackward>)\n",
            "Training loss:  tensor(4.6995, grad_fn=<MseLossBackward>)\n",
            "Training loss:  tensor(4.5457, grad_fn=<MseLossBackward>)\n",
            "Training loss:  tensor(4.3974, grad_fn=<MseLossBackward>)\n",
            "Training loss:  tensor(4.2547, grad_fn=<MseLossBackward>)\n",
            "Training loss:  tensor(4.1172, grad_fn=<MseLossBackward>)\n",
            "Training loss:  tensor(3.9847, grad_fn=<MseLossBackward>)\n",
            "Training loss:  tensor(3.8572, grad_fn=<MseLossBackward>)\n",
            "Training loss:  tensor(3.7343, grad_fn=<MseLossBackward>)\n",
            "Training loss:  tensor(3.6159, grad_fn=<MseLossBackward>)\n",
            "Training loss:  tensor(3.5020, grad_fn=<MseLossBackward>)\n",
            "Training loss:  tensor(3.3922, grad_fn=<MseLossBackward>)\n",
            "Training loss:  tensor(3.2864, grad_fn=<MseLossBackward>)\n",
            "Training loss:  tensor(3.1846, grad_fn=<MseLossBackward>)\n",
            "Training loss:  tensor(3.0865, grad_fn=<MseLossBackward>)\n",
            "Training loss:  tensor(2.9920, grad_fn=<MseLossBackward>)\n",
            "Training loss:  tensor(2.9010, grad_fn=<MseLossBackward>)\n",
            "Training loss:  tensor(2.8133, grad_fn=<MseLossBackward>)\n",
            "Training loss:  tensor(2.7289, grad_fn=<MseLossBackward>)\n",
            "Training loss:  tensor(2.6475, grad_fn=<MseLossBackward>)\n",
            "Training loss:  tensor(2.5692, grad_fn=<MseLossBackward>)\n",
            "Training loss:  tensor(2.4938, grad_fn=<MseLossBackward>)\n",
            "Training loss:  tensor(2.4211, grad_fn=<MseLossBackward>)\n",
            "Training loss:  tensor(2.3511, grad_fn=<MseLossBackward>)\n",
            "Training loss:  tensor(2.2837, grad_fn=<MseLossBackward>)\n",
            "Training loss:  tensor(2.2188, grad_fn=<MseLossBackward>)\n",
            "Training loss:  tensor(2.1562, grad_fn=<MseLossBackward>)\n",
            "Training loss:  tensor(2.0960, grad_fn=<MseLossBackward>)\n",
            "Training loss:  tensor(2.0379, grad_fn=<MseLossBackward>)\n",
            "Training loss:  tensor(1.9821, grad_fn=<MseLossBackward>)\n",
            "Training loss:  tensor(1.9282, grad_fn=<MseLossBackward>)\n",
            "Training loss:  tensor(1.8764, grad_fn=<MseLossBackward>)\n"
          ]
        }
      ]
    },
    {
      "cell_type": "code",
      "metadata": {
        "_uuid": "32588a47d0478772a1f08fa55874a322630bd0b6",
        "id": "c3Bf-Emn-7wj",
        "colab": {
          "base_uri": "https://localhost:8080/"
        },
        "outputId": "53dfeba3-9f91-4377-9eec-f62f3a07b0c1"
      },
      "source": [
        "# Generate predictions\n",
        "preds = model(X)\n",
        "preds"
      ],
      "execution_count": 15,
      "outputs": [
        {
          "output_type": "execute_result",
          "data": {
            "text/plain": [
              "tensor([[ 57.1264,  70.5329],\n",
              "        [ 81.9571,  99.4890],\n",
              "        [119.3221, 135.2866],\n",
              "        [ 21.2638,  37.6603],\n",
              "        [101.2922, 116.8125],\n",
              "        [ 57.1264,  70.5329],\n",
              "        [ 81.9571,  99.4890],\n",
              "        [119.3221, 135.2866],\n",
              "        [ 21.2638,  37.6603],\n",
              "        [101.2922, 116.8125],\n",
              "        [ 57.1264,  70.5329],\n",
              "        [ 81.9571,  99.4890],\n",
              "        [119.3221, 135.2866],\n",
              "        [ 21.2638,  37.6603],\n",
              "        [101.2922, 116.8125]], grad_fn=<AddmmBackward>)"
            ]
          },
          "metadata": {},
          "execution_count": 15
        }
      ]
    },
    {
      "cell_type": "code",
      "metadata": {
        "_uuid": "12d757c0f37c2e3af65cf9d4b59878cc10c65acf",
        "id": "_gDGmiHl-7wr",
        "colab": {
          "base_uri": "https://localhost:8080/"
        },
        "outputId": "e9417f82-94d0-43a6-c952-30b0c68541f7"
      },
      "source": [
        "# Compare with targets\n",
        "targets"
      ],
      "execution_count": 16,
      "outputs": [
        {
          "output_type": "execute_result",
          "data": {
            "text/plain": [
              "array([[ 56.,  70.],\n",
              "       [ 81., 101.],\n",
              "       [119., 133.],\n",
              "       [ 22.,  37.],\n",
              "       [103., 119.],\n",
              "       [ 56.,  70.],\n",
              "       [ 81., 101.],\n",
              "       [119., 133.],\n",
              "       [ 22.,  37.],\n",
              "       [103., 119.],\n",
              "       [ 56.,  70.],\n",
              "       [ 81., 101.],\n",
              "       [119., 133.],\n",
              "       [ 22.,  37.],\n",
              "       [103., 119.]], dtype=float32)"
            ]
          },
          "metadata": {},
          "execution_count": 16
        }
      ]
    },
    {
      "cell_type": "markdown",
      "metadata": {
        "_uuid": "2448d9832722f4f2813f8bd80b91daefd901dc2e",
        "id": "b9nvUidI-7xD"
      },
      "source": [
        "Now we can define the model, optimizer and loss function exactly as before."
      ]
    },
    {
      "cell_type": "markdown",
      "metadata": {
        "id": "eAyCq48TMlWJ"
      },
      "source": [
        "#Exercise 1:\n",
        " Try Linear Regression just using numpy (Without Tensorflow/Pytorch or other torch library). You can optionally use sklearn (if you want)\n",
        "\n",
        "\n",
        " "
      ]
    },
    {
      "cell_type": "code",
      "metadata": {
        "id": "JvqmA1IQ0AxR"
      },
      "source": [
        "from sklearn.linear_model import LinearRegression\n",
        "model1 = LinearRegression()"
      ],
      "execution_count": 17,
      "outputs": []
    },
    {
      "cell_type": "code",
      "metadata": {
        "id": "Ff1HRiVg0AxS"
      },
      "source": [
        "from sklearn.model_selection import train_test_split\n",
        "\n",
        "X_Train,X_Test,Y_Train,Y_Test = train_test_split(inputs,targets,test_size=0.2,random_state=147)"
      ],
      "execution_count": 19,
      "outputs": []
    },
    {
      "cell_type": "code",
      "metadata": {
        "id": "SjpA_k2L0AxS",
        "colab": {
          "base_uri": "https://localhost:8080/"
        },
        "outputId": "3ad697c6-fab0-44c9-d664-aca70e9283f0"
      },
      "source": [
        "model1.fit(X_Train,Y_Train)"
      ],
      "execution_count": 20,
      "outputs": [
        {
          "output_type": "execute_result",
          "data": {
            "text/plain": [
              "LinearRegression(copy_X=True, fit_intercept=True, n_jobs=None, normalize=False)"
            ]
          },
          "metadata": {},
          "execution_count": 20
        }
      ]
    },
    {
      "cell_type": "code",
      "metadata": {
        "id": "kLm_012s0AxT"
      },
      "source": [
        "Y_pred = model1.predict(X_Test)"
      ],
      "execution_count": 21,
      "outputs": []
    },
    {
      "cell_type": "code",
      "metadata": {
        "id": "OJwdCTP90AxT",
        "colab": {
          "base_uri": "https://localhost:8080/"
        },
        "outputId": "3073a71d-2fd2-4dd7-8907-9bb2ce22f2db"
      },
      "source": [
        "from sklearn.metrics import mean_squared_error\n",
        "print(mean_squared_error(Y_Test,Y_pred))\n",
        "Y_pred,Y_Test"
      ],
      "execution_count": 22,
      "outputs": [
        {
          "output_type": "stream",
          "name": "stdout",
          "text": [
            "1.3399835\n"
          ]
        },
        {
          "output_type": "execute_result",
          "data": {
            "text/plain": [
              "(array([[20.115925, 37.132072],\n",
              "        [20.115925, 37.132072],\n",
              "        [56.94927 , 69.93347 ]], dtype=float32), array([[22., 37.],\n",
              "        [22., 37.],\n",
              "        [56., 70.]], dtype=float32))"
            ]
          },
          "metadata": {},
          "execution_count": 22
        }
      ]
    }
  ]
}