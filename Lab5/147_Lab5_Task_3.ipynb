{
  "nbformat": 4,
  "nbformat_minor": 0,
  "metadata": {
    "colab": {
      "name": "147_Lab5_Task_3.ipynb",
      "provenance": [],
      "authorship_tag": "ABX9TyPThhtcXAtr9rqtqMsSRoxG"
    },
    "kernelspec": {
      "name": "python3",
      "display_name": "Python 3"
    },
    "language_info": {
      "name": "python"
    }
  },
  "cells": [
    {
      "cell_type": "code",
      "metadata": {
        "id": "U29ou5U62NHk"
      },
      "source": [
        "import numpy as np\n",
        "import matplotlib.pyplot as plt\n",
        "\n",
        "import tensorflow as tf\n"
      ],
      "execution_count": 1,
      "outputs": []
    },
    {
      "cell_type": "markdown",
      "metadata": {
        "id": "dr17PTF62NHy"
      },
      "source": [
        "## Computing gradients \n",
        " - To differentiate automatically, TensorFlow needs to remember what operations happen in what order during the forward pass. Then, during the backward pass, TensorFlow traverses this list of operations in reverse order to compute gradients.\n",
        " \n",
        "## Gradient tapes\n",
        "- TensorFlow provides the tf.GradientTape API for automatic differentiation; that is, computing the gradient of a computation with respect to some inputs, usually tf.Variables. TensorFlow \"records\" relevant operations executed inside the context of a tf.GradientTape onto a \"tape\". TensorFlow then uses that tape to compute the gradients of a \"recorded\" computation using reverse mode differentiation."
      ]
    },
    {
      "cell_type": "code",
      "metadata": {
        "id": "76ighzOP2NH6",
        "colab": {
          "base_uri": "https://localhost:8080/"
        },
        "outputId": "f3d3fa0e-d36a-41cd-d117-c72a1de31fea"
      },
      "source": [
        "x = tf.Variable(3.0)\n",
        "\n",
        "with tf.GradientTape() as tape:\n",
        "    y = x**2\n",
        "    \n",
        "dy_dx = tape.gradient(y, x)\n",
        "print(f\"dy_dx : {dy_dx.numpy()} , y: {y.numpy()} , x : {x.numpy()}\")\n",
        "\n",
        "\n",
        "with tf.GradientTape() as tape1:\n",
        "    y = tf.sin(x)\n",
        "    \n",
        "dy_dx = tape1.gradient(y, x)\n",
        "print(f\"dy_dx : {dy_dx.numpy()} , y: {y.numpy()} , x : {x.numpy()}\")\n",
        "print(f\"dy_dx ::\",-np.cos(x.numpy()))\n",
        "\n",
        "print(x)"
      ],
      "execution_count": 2,
      "outputs": [
        {
          "output_type": "stream",
          "name": "stdout",
          "text": [
            "dy_dx : 6.0 , y: 9.0 , x : 3.0\n",
            "dy_dx : -0.9899924993515015 , y: 0.14112000167369843 , x : 3.0\n",
            "dy_dx :: 0.9899925\n",
            "<tf.Variable 'Variable:0' shape=() dtype=float32, numpy=3.0>\n"
          ]
        }
      ]
    },
    {
      "cell_type": "code",
      "metadata": {
        "id": "fEjhlymW2NH-"
      },
      "source": [
        "import torch"
      ],
      "execution_count": 3,
      "outputs": []
    },
    {
      "cell_type": "code",
      "metadata": {
        "id": "tOW5Tmm82NIA",
        "colab": {
          "base_uri": "https://localhost:8080/"
        },
        "outputId": "097355fb-799e-4078-c69f-dd243c5c0b6d"
      },
      "source": [
        "x=torch.tensor(3.0, requires_grad=True)  \n",
        "z=torch.tensor(4.0, requires_grad=True)  \n",
        "\n",
        "y=x**2+z**3  \n",
        "y.backward()  \n",
        "print(x.grad)  \n",
        "print(z.grad)  \n",
        "\n",
        "x.grad.zero_(),z.grad.zero_()\n",
        "\n",
        "y = x.sin()\n",
        "y.backward()  \n",
        "print(x.grad)\n",
        "\n"
      ],
      "execution_count": 4,
      "outputs": [
        {
          "output_type": "stream",
          "name": "stdout",
          "text": [
            "tensor(6.)\n",
            "tensor(48.)\n",
            "tensor(-0.9900)\n"
          ]
        }
      ]
    },
    {
      "cell_type": "code",
      "metadata": {
        "id": "WBchXaS62NIC",
        "colab": {
          "base_uri": "https://localhost:8080/"
        },
        "outputId": "06d14fbd-0ec1-468f-91c1-3b75760bd3c5"
      },
      "source": [
        "T = torch.tensor([[1,2],[3,4]])\n",
        "T1 = torch.tensor([10,-10])\n",
        "T+T1"
      ],
      "execution_count": 5,
      "outputs": [
        {
          "output_type": "execute_result",
          "data": {
            "text/plain": [
              "tensor([[11, -8],\n",
              "        [13, -6]])"
            ]
          },
          "metadata": {},
          "execution_count": 5
        }
      ]
    },
    {
      "cell_type": "code",
      "metadata": {
        "id": "qQSRD7NA2NIE",
        "colab": {
          "base_uri": "https://localhost:8080/"
        },
        "outputId": "f2e61bfa-a448-4c27-85fa-ecaba756af9b"
      },
      "source": [
        "torch.cuda.is_available()"
      ],
      "execution_count": 6,
      "outputs": [
        {
          "output_type": "execute_result",
          "data": {
            "text/plain": [
              "False"
            ]
          },
          "metadata": {},
          "execution_count": 6
        }
      ]
    } 
  ]
}
