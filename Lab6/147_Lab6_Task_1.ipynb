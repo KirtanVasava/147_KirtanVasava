{
  "nbformat": 4,
  "nbformat_minor": 0,
  "metadata": {
    "colab": {
      "name": "147_Lab6_Task_1.ipynb",
      "provenance": [],
      "authorship_tag": "ABX9TyOuo1vL8RQnMJP8vNb2G8n0"
    },
    "kernelspec": {
      "name": "python3",
      "display_name": "Python 3"
    },
    "language_info": {
      "name": "python"
    }
  },
  "cells": [
    {
      "cell_type": "markdown",
      "metadata": {
        "id": "Zx8JexoC6B4I"
      },
      "source": [
        "# **Logistic Regression**"
      ]
    },
    {
      "cell_type": "code",
      "metadata": {
        "colab": {
          "base_uri": "https://localhost:8080/"
        },
        "id": "aE43W83f45Ho",
        "outputId": "5c9cdc6b-b3c0-43cd-ef89-d6b54e024e82"
      },
      "source": [
        "from google.colab import drive\n",
        "drive.mount('/content/drive')"
      ],
      "execution_count": 2,
      "outputs": [
        {
          "output_type": "stream",
          "name": "stdout",
          "text": [
            "Mounted at /content/drive\n"
          ]
        }
      ]
    },
    {
      "cell_type": "code",
      "metadata": {
        "_cell_guid": "b1076dfc-b9ad-4769-8c92-a6c4dae69d19",
        "_uuid": "8f2839f25d086af736a60e9eeb907d3b93b6e0e5",
        "id": "hfV503AtcBDp"
      },
      "source": [
        "#Importing libraries\n",
        "import numpy as np \n",
        "import pandas as pd \n",
        "import io\n",
        "import matplotlib.pyplot as plt"
      ],
      "execution_count": 3,
      "outputs": []
    },
    {
      "cell_type": "markdown",
      "metadata": {
        "id": "qPddJ49_35CE"
      },
      "source": [
        "# Load & Preprocess data"
      ]
    },
    {
      "cell_type": "code",
      "metadata": {
        "_cell_guid": "79c7e3d0-c299-4dcb-8224-4455121ee9b0",
        "_uuid": "d629ff2d2480ee46fbb7e2d37f6b5fab8052498a",
        "colab": {
          "base_uri": "https://localhost:8080/",
          "height": 203
        },
        "id": "Y4rK9ffYcBEP",
        "outputId": "693a3b03-a85b-40e2-d27a-dce85f3e20f1"
      },
      "source": [
        "data = pd.read_csv('/content/drive/MyDrive/Colab Notebooks/ML/Lab6/BuyComputer.csv') \n",
        "\n",
        "\n",
        "data.drop(columns=['User ID',],axis=1,inplace=True)\n",
        "data.head()"
      ],
      "execution_count": 4,
      "outputs": [
        {
          "output_type": "execute_result",
          "data": {
            "text/html": [
              "<div>\n",
              "<style scoped>\n",
              "    .dataframe tbody tr th:only-of-type {\n",
              "        vertical-align: middle;\n",
              "    }\n",
              "\n",
              "    .dataframe tbody tr th {\n",
              "        vertical-align: top;\n",
              "    }\n",
              "\n",
              "    .dataframe thead th {\n",
              "        text-align: right;\n",
              "    }\n",
              "</style>\n",
              "<table border=\"1\" class=\"dataframe\">\n",
              "  <thead>\n",
              "    <tr style=\"text-align: right;\">\n",
              "      <th></th>\n",
              "      <th>Age</th>\n",
              "      <th>EstimatedSalary</th>\n",
              "      <th>Purchased</th>\n",
              "    </tr>\n",
              "  </thead>\n",
              "  <tbody>\n",
              "    <tr>\n",
              "      <th>0</th>\n",
              "      <td>19</td>\n",
              "      <td>19000</td>\n",
              "      <td>0</td>\n",
              "    </tr>\n",
              "    <tr>\n",
              "      <th>1</th>\n",
              "      <td>35</td>\n",
              "      <td>20000</td>\n",
              "      <td>0</td>\n",
              "    </tr>\n",
              "    <tr>\n",
              "      <th>2</th>\n",
              "      <td>26</td>\n",
              "      <td>43000</td>\n",
              "      <td>0</td>\n",
              "    </tr>\n",
              "    <tr>\n",
              "      <th>3</th>\n",
              "      <td>27</td>\n",
              "      <td>57000</td>\n",
              "      <td>0</td>\n",
              "    </tr>\n",
              "    <tr>\n",
              "      <th>4</th>\n",
              "      <td>19</td>\n",
              "      <td>76000</td>\n",
              "      <td>0</td>\n",
              "    </tr>\n",
              "  </tbody>\n",
              "</table>\n",
              "</div>"
            ],
            "text/plain": [
              "   Age  EstimatedSalary  Purchased\n",
              "0   19            19000          0\n",
              "1   35            20000          0\n",
              "2   26            43000          0\n",
              "3   27            57000          0\n",
              "4   19            76000          0"
            ]
          },
          "metadata": {},
          "execution_count": 4
        }
      ]
    },
    {
      "cell_type": "code",
      "metadata": {
        "_uuid": "4cb45e28344e7e245ab398e9f4f5272ef21d2129",
        "id": "jwuPgU6_cBE8",
        "colab": {
          "base_uri": "https://localhost:8080/"
        },
        "outputId": "b36131fd-f4ba-4d0c-b707-c799fa4b6785"
      },
      "source": [
        "#Declare label as last column in the source file\n",
        "Labels = data['Purchased']\n",
        "Labels"
      ],
      "execution_count": 5,
      "outputs": [
        {
          "output_type": "execute_result",
          "data": {
            "text/plain": [
              "0      0\n",
              "1      0\n",
              "2      0\n",
              "3      0\n",
              "4      0\n",
              "      ..\n",
              "395    1\n",
              "396    1\n",
              "397    1\n",
              "398    0\n",
              "399    1\n",
              "Name: Purchased, Length: 400, dtype: int64"
            ]
          },
          "metadata": {},
          "execution_count": 5
        }
      ]
    },
    {
      "cell_type": "code",
      "metadata": {
        "_uuid": "2e7a145fa49435ad9578ec2827f76a70cc99f2e1",
        "id": "2lhBrOp8cBFX"
      },
      "source": [
        "#Declaring X as all columns excluding last\n",
        "X = data.iloc[:,:2]"
      ],
      "execution_count": 6,
      "outputs": []
    },
    {
      "cell_type": "code",
      "metadata": {
        "_uuid": "dffb1f3e19e19964995ac827bf55108b5815ff67",
        "id": "t8nwbTn6cBFp"
      },
      "source": [
        "# Splitting data\n",
        "from sklearn.model_selection import train_test_split\n",
        "X_train, X_test, y_train, y_test = train_test_split(X,Labels,random_state=147,test_size=0.3)"
      ],
      "execution_count": 8,
      "outputs": []
    },
    {
      "cell_type": "code",
      "metadata": {
        "_uuid": "7d4ed14782e114ae3282f20d3754121398e6d232",
        "id": "U4bUiVVFcBGD"
      },
      "source": [
        "# Sacaling data\n",
        "from sklearn.preprocessing import StandardScaler\n",
        "sc = StandardScaler()\n",
        "X_train = sc.fit_transform(X_train)\n",
        "X_test = sc.fit_transform(X_test)"
      ],
      "execution_count": 9,
      "outputs": []
    },
    {
      "cell_type": "code",
      "metadata": {
        "id": "JwrLosoQ35CS",
        "colab": {
          "base_uri": "https://localhost:8080/"
        },
        "outputId": "94dc1d80-4e30-46c6-efeb-672bdc48fffa"
      },
      "source": [
        "X_test.mean(axis=0)"
      ],
      "execution_count": 10,
      "outputs": [
        {
          "output_type": "execute_result",
          "data": {
            "text/plain": [
              "array([-1.18423789e-16,  1.29526020e-16])"
            ]
          },
          "metadata": {},
          "execution_count": 10
        }
      ]
    },
    {
      "cell_type": "markdown",
      "metadata": {
        "id": "k-jIptip35CT"
      },
      "source": [
        "# Define Functions \n",
        "- sigmoid(Z)\n",
        "- predict(X,Theta,Theta0)\n",
        "- hypothesis(X,Theta)\n",
        "- cost(Y)\n",
        "- sigmoid(z)"
      ]
    },
    {
      "cell_type": "code",
      "metadata": {
        "id": "gGEtGHP935CU"
      },
      "source": [
        "class myLogisticReg: \n",
        "    __sigmoid = lambda self,z :1/(1+pow(np.e,-z))\n",
        "    __loss_func = lambda self,Y,Y_pred : -((Y)@(np.log(Y_pred).T) + (1-Y)@(np.log(1-Y_pred).T))\n",
        "    __Wgrad = lambda self,Y,Y_pred,X : (Y_pred-Y)@X\n",
        "    __bgrad = lambda self,Y,Y_pred : (Y_pred-Y).sum()\n",
        "    \n",
        "    W,b = None,None\n",
        "    def __init__(self):\n",
        "        pass\n",
        "\n",
        "    def fit(self,X,Y,epoch=100,alpha = 1e-3,lmd=1):\n",
        "        self.W = np.random.randn(X.shape[1])\n",
        "        self.b = np.random.random()\n",
        "        \n",
        "        \n",
        "        for e in range(epoch):\n",
        "            pred = self.predict(X)\n",
        "            cost = self.__loss_func(Y,pred)\n",
        "            print(f\"{e+1} : cost = {cost}\")\n",
        "            self.W-=alpha*(self.__Wgrad(Y,pred,X)+lmd*self.W)\n",
        "            self.b-=alpha*self.__bgrad(Y,pred)\n",
        "#             print(self.W,self.b)\n",
        "        return self\n",
        "            \n",
        "    \n",
        "    def predict(self,X_test):\n",
        "        if self.W is None:\n",
        "            raise Exception(\"model is not fitted yet!\")\n",
        "#         print(\"------------>\",self.W.shape,self.b,\"<-------------------\")\n",
        "        Z = X_test@(self.W.T)+self.b\n",
        "        predictions = self.__sigmoid(Z)\n",
        "        return predictions"
      ],
      "execution_count": 11,
      "outputs": []
    },
    {
      "cell_type": "code",
      "metadata": {
        "id": "OwH9Jfwh35CW",
        "colab": {
          "base_uri": "https://localhost:8080/"
        },
        "outputId": "62cc01ee-871a-46a3-9a6e-cc45fb7bfe89"
      },
      "source": [
        "np.random.random()"
      ],
      "execution_count": 12,
      "outputs": [
        {
          "output_type": "execute_result",
          "data": {
            "text/plain": [
              "0.0890513312048058"
            ]
          },
          "metadata": {},
          "execution_count": 12
        }
      ]
    },
    {
      "cell_type": "code",
      "metadata": {
        "_uuid": "a939c247b8a092f74c9843975612daa85c423621",
        "id": "rEiF-bNHcBJB",
        "colab": {
          "base_uri": "https://localhost:8080/"
        },
        "outputId": "dfbb3b48-b36c-4347-9192-6e8d3908a095"
      },
      "source": [
        "mymodel = myLogisticReg()\n",
        "mymodel.fit(X_train,y_train,alpha=1e-2,epoch=50)"
      ],
      "execution_count": 13,
      "outputs": [
        {
          "output_type": "stream",
          "name": "stdout",
          "text": [
            "1 : cost = 280.86766706692737\n",
            "2 : cost = 139.44761135849012\n",
            "3 : cost = 113.62484925996296\n",
            "4 : cost = 105.7036415945879\n",
            "5 : cost = 102.11883065502516\n",
            "6 : cost = 100.0335953120271\n",
            "7 : cost = 98.64307582485151\n",
            "8 : cost = 97.64489259370197\n",
            "9 : cost = 96.89622199900283\n",
            "10 : cost = 96.31795616835177\n",
            "11 : cost = 95.86153942683688\n",
            "12 : cost = 95.49511476729967\n",
            "13 : cost = 95.1968035711937\n",
            "14 : cost = 94.95106760302674\n",
            "15 : cost = 94.74657961323918\n",
            "16 : cost = 94.57490475205336\n",
            "17 : cost = 94.42964888276583\n",
            "18 : cost = 94.30588999582638\n",
            "19 : cost = 94.19978826642517\n",
            "20 : cost = 94.10831250877229\n",
            "21 : cost = 94.02904451235344\n",
            "22 : cost = 93.96003668391572\n",
            "23 : cost = 93.8997069003808\n",
            "24 : cost = 93.84675979335952\n",
            "25 : cost = 93.80012710234135\n",
            "26 : cost = 93.7589219782866\n",
            "27 : cost = 93.72240362316951\n",
            "28 : cost = 93.68994967627671\n",
            "29 : cost = 93.66103446820193\n",
            "30 : cost = 93.6352117624865\n",
            "31 : cost = 93.61210096017507\n",
            "32 : cost = 93.59137599865358\n",
            "33 : cost = 93.57275636281312\n",
            "34 : cost = 93.55599976407781\n",
            "35 : cost = 93.54089614509367\n",
            "36 : cost = 93.52726274461995\n",
            "37 : cost = 93.51494001524422\n",
            "38 : cost = 93.50378823085074\n",
            "39 : cost = 93.49368465481848\n",
            "40 : cost = 93.48452116627627\n",
            "41 : cost = 93.47620226226199\n",
            "42 : cost = 93.46864336971919\n",
            "43 : cost = 93.46176941393955\n",
            "44 : cost = 93.45551360010779\n",
            "45 : cost = 93.44981637260867\n",
            "46 : cost = 93.44462452316282\n",
            "47 : cost = 93.4398904240095\n",
            "48 : cost = 93.43557136651634\n",
            "49 : cost = 93.43162898896975\n",
            "50 : cost = 93.42802878004886\n"
          ]
        },
        {
          "output_type": "execute_result",
          "data": {
            "text/plain": [
              "<__main__.myLogisticReg at 0x7fda1d0cbc90>"
            ]
          },
          "metadata": {},
          "execution_count": 13
        }
      ]
    },
    {
      "cell_type": "code",
      "metadata": {
        "_uuid": "b7ae24169a21c7ac8ea0787f4a38a0de3e07a6b5",
        "id": "MPt5nUcpcBJR",
        "colab": {
          "base_uri": "https://localhost:8080/"
        },
        "outputId": "81130649-012e-43b8-8e52-88a872853a9b"
      },
      "source": [
        "y_pred = mymodel.predict(X_test)\n",
        "y_pred "
      ],
      "execution_count": 14,
      "outputs": [
        {
          "output_type": "execute_result",
          "data": {
            "text/plain": [
              "array([4.42322003e-01, 3.35014004e-01, 7.77996284e-03, 7.28903598e-01,\n",
              "       5.19047768e-03, 1.94223710e-02, 2.02929833e-01, 4.94150612e-01,\n",
              "       9.85256037e-02, 3.28150513e-01, 2.70291812e-02, 1.47850259e-02,\n",
              "       1.23206406e-01, 9.06314428e-01, 9.25990946e-01, 2.02546415e-01,\n",
              "       1.05865893e-02, 7.92885939e-03, 9.60643155e-01, 2.28082334e-01,\n",
              "       9.76616624e-01, 2.70908359e-03, 1.16914921e-01, 8.19879042e-01,\n",
              "       6.11661912e-01, 4.11895580e-02, 4.44956724e-01, 2.71275596e-01,\n",
              "       8.27295035e-03, 1.25675909e-01, 1.17037432e-01, 9.35068434e-01,\n",
              "       8.35715544e-02, 1.20275834e-01, 1.94223710e-02, 3.27057245e-02,\n",
              "       4.31923094e-03, 6.59055980e-01, 1.57077246e-01, 9.03754875e-01,\n",
              "       6.79871462e-01, 2.81047742e-01, 7.59047898e-01, 9.78041066e-01,\n",
              "       9.84663539e-01, 4.53774268e-02, 2.54378589e-03, 9.40486312e-01,\n",
              "       2.24735707e-01, 4.77582514e-02, 3.07751377e-01, 9.84133326e-01,\n",
              "       4.45249665e-01, 1.97026883e-01, 5.81575441e-01, 9.77810638e-01,\n",
              "       1.30054842e-01, 1.83095571e-01, 1.56763423e-01, 3.26817462e-03,\n",
              "       9.53143755e-01, 9.65641833e-03, 2.81461686e-02, 8.77275104e-01,\n",
              "       4.17202580e-01, 8.57878587e-04, 1.22943993e-02, 4.24171614e-01,\n",
              "       9.01344159e-01, 4.73774774e-03, 6.05763239e-02, 3.56126552e-02,\n",
              "       8.20511040e-03, 4.67379679e-02, 3.25186322e-02, 4.24461335e-01,\n",
              "       9.48873017e-01, 1.04753608e-02, 9.51522746e-01, 2.51290803e-01,\n",
              "       9.84151836e-01, 1.34594628e-02, 6.98747746e-01, 2.93484597e-01,\n",
              "       7.48260118e-03, 1.91437964e-01, 6.73355041e-01, 4.79203288e-02,\n",
              "       2.75542638e-01, 6.89656291e-01, 9.72744210e-01, 1.20652833e-01,\n",
              "       8.29852347e-01, 2.41552280e-01, 3.84896636e-01, 4.24301161e-02,\n",
              "       7.37464867e-02, 9.66483787e-01, 8.29684812e-01, 2.77203043e-01,\n",
              "       9.47053017e-01, 3.26431331e-03, 2.07399518e-01, 9.09596065e-01,\n",
              "       7.44789686e-02, 2.05420783e-02, 9.76643695e-01, 7.53999213e-01,\n",
              "       6.02599608e-03, 2.82007358e-01, 1.98433073e-03, 6.19241696e-03,\n",
              "       2.22060705e-01, 2.51514018e-01, 1.52074020e-02, 3.92254058e-01,\n",
              "       3.46434730e-02, 9.07116981e-01, 9.92210031e-03, 3.26817462e-03])"
            ]
          },
          "metadata": {},
          "execution_count": 14
        }
      ]
    },
    {
      "cell_type": "code",
      "metadata": {
        "_uuid": "967ad1b72305ad792a5d50e4d8b8a07632f7b241",
        "id": "79HPPz7jcBJg",
        "scrolled": false,
        "colab": {
          "base_uri": "https://localhost:8080/"
        },
        "outputId": "71f3b1c6-7377-4bac-f14c-df8461828f02"
      },
      "source": [
        "#print actual and predicted values in a table\n",
        "y_test"
      ],
      "execution_count": 15,
      "outputs": [
        {
          "output_type": "execute_result",
          "data": {
            "text/plain": [
              "7      1\n",
              "357    0\n",
              "43     0\n",
              "297    1\n",
              "158    0\n",
              "      ..\n",
              "220    0\n",
              "183    0\n",
              "355    1\n",
              "99     0\n",
              "92     0\n",
              "Name: Purchased, Length: 120, dtype: int64"
            ]
          },
          "metadata": {},
          "execution_count": 15
        }
      ]
    },
    {
      "cell_type": "code",
      "metadata": {
        "_uuid": "a59807150900082ab876ef0200c6c7f8f93e098c",
        "id": "sdZDj_iVcBJt",
        "colab": {
          "base_uri": "https://localhost:8080/"
        },
        "outputId": "16afc339-16c3-4025-dcec-5d16b4bb91c3"
      },
      "source": [
        "# Calculating accuracy of prediction\n",
        "# len(X_test)\n",
        "accuracy = ((y_pred>=0.5)==y_test.to_numpy(dtype=np.bool)).sum()/len(y_pred)\n",
        "accuracy"
      ],
      "execution_count": 16,
      "outputs": [
        {
          "output_type": "execute_result",
          "data": {
            "text/plain": [
              "0.8"
            ]
          },
          "metadata": {},
          "execution_count": 16
        }
      ]
    },
    {
      "cell_type": "markdown",
      "metadata": {
        "id": "x6nmajpzhAEn"
      },
      "source": [
        "#Using sklearn LogisticRegression model"
      ]
    },
    {
      "cell_type": "code",
      "metadata": {
        "_kg_hide-output": true,
        "_uuid": "9aaade066015e04f20dd7eb1d37339be75ca3836",
        "id": "iG-BK4i9cBKH"
      },
      "source": [
        "# Fitting Logistic Regression to the Training set\n",
        "from sklearn.linear_model import LogisticRegression\n",
        "LR = LogisticRegression(random_state = 147)\n",
        "\n",
        "#Fit\n",
        "LR.fit(X_train,y_train)\n",
        "#predicting the test label with LR. Predict always takes X as input\n",
        "y1 = LR.predict(X_test)"
      ],
      "execution_count": 17,
      "outputs": []
    },
    {
      "cell_type": "code",
      "metadata": {
        "id": "OcLCNdwD35Cb",
        "colab": {
          "base_uri": "https://localhost:8080/"
        },
        "outputId": "c1f6f441-09ac-4c97-fd8b-4aefd2dff725"
      },
      "source": [
        "from sklearn.metrics import classification_report\n",
        "print(classification_report(y_test,y1))\n",
        "print(classification_report(y_test,y_pred>=0.5))"
      ],
      "execution_count": 18,
      "outputs": [
        {
          "output_type": "stream",
          "name": "stdout",
          "text": [
            "              precision    recall  f1-score   support\n",
            "\n",
            "           0       0.79      0.92      0.85        72\n",
            "           1       0.83      0.62      0.71        48\n",
            "\n",
            "    accuracy                           0.80       120\n",
            "   macro avg       0.81      0.77      0.78       120\n",
            "weighted avg       0.80      0.80      0.79       120\n",
            "\n",
            "              precision    recall  f1-score   support\n",
            "\n",
            "           0       0.79      0.92      0.85        72\n",
            "           1       0.83      0.62      0.71        48\n",
            "\n",
            "    accuracy                           0.80       120\n",
            "   macro avg       0.81      0.77      0.78       120\n",
            "weighted avg       0.80      0.80      0.79       120\n",
            "\n"
          ]
        }
      ]
    }
  ]
}