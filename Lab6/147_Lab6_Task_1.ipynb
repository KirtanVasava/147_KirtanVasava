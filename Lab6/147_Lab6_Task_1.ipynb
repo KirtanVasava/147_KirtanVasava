{
  "nbformat": 4,
  "nbformat_minor": 0,
  "metadata": {
    "colab": {
      "name": "147_Lab6_Task_1.ipynb",
      "provenance": [],
      "authorship_tag": "ABX9TyOuo1vL8RQnMJP8vNb2G8n0"
    },
    "kernelspec": {
      "name": "python3",
      "display_name": "Python 3"
    },
    "language_info": {
      "name": "python"
    }
  },
  "cells": [
    {
      "cell_type": "markdown",
      "metadata": {
        "id": "Zx8JexoC6B4I"
      },
      "source": [
        "# **Logistic Regression**"
      ]
    },
    {
      "cell_type": "code",
      "metadata": {
        "colab": {
          "base_uri": "https://localhost:8080/"
        },
        "id": "aE43W83f45Ho",
        "outputId": "62885e42-4a34-4bf6-a2ec-21cf0983aa55"
      },
      "source": [
        "from google.colab import drive\n",
        "drive.mount('/content/drive')"
      ],
      "execution_count": 2,
      "outputs": [
        {
          "output_type": "stream",
          "name": "stdout",
          "text": [
            "Drive already mounted at /content/drive; to attempt to forcibly remount, call drive.mount(\"/content/drive\", force_remount=True).\n"
          ]
        }
      ]
    },
    {
      "cell_type": "code",
      "metadata": {
        "_cell_guid": "b1076dfc-b9ad-4769-8c92-a6c4dae69d19",
        "_uuid": "8f2839f25d086af736a60e9eeb907d3b93b6e0e5",
        "id": "hfV503AtcBDp"
      },
      "source": [
        "#Importing libraries\n",
        "import numpy as np \n",
        "import pandas as pd \n",
        "import io\n",
        "import matplotlib.pyplot as plt"
      ],
      "execution_count": 3,
      "outputs": []
    },
    {
      "cell_type": "markdown",
      "metadata": {
        "id": "qPddJ49_35CE"
      },
      "source": [
        "# Load & Preprocess data"
      ]
    },
    {
      "cell_type": "code",
      "metadata": {
        "_cell_guid": "79c7e3d0-c299-4dcb-8224-4455121ee9b0",
        "_uuid": "d629ff2d2480ee46fbb7e2d37f6b5fab8052498a",
        "colab": {
          "base_uri": "https://localhost:8080/",
          "height": 203
        },
        "id": "Y4rK9ffYcBEP",
        "outputId": "27a5134b-9db1-4d56-e2ce-887206e67aa3"
      },
      "source": [
        "data = pd.read_csv('/content/drive/MyDrive/Colab Notebooks/ML/Lab6/BuyComputer.csv') \n",
        "\n",
        "\n",
        "data.drop(columns=['User ID',],axis=1,inplace=True)\n",
        "data.head()"
      ],
      "execution_count": 4,
      "outputs": [
        {
          "output_type": "execute_result",
          "data": {
            "text/html": [
              "<div>\n",
              "<style scoped>\n",
              "    .dataframe tbody tr th:only-of-type {\n",
              "        vertical-align: middle;\n",
              "    }\n",
              "\n",
              "    .dataframe tbody tr th {\n",
              "        vertical-align: top;\n",
              "    }\n",
              "\n",
              "    .dataframe thead th {\n",
              "        text-align: right;\n",
              "    }\n",
              "</style>\n",
              "<table border=\"1\" class=\"dataframe\">\n",
              "  <thead>\n",
              "    <tr style=\"text-align: right;\">\n",
              "      <th></th>\n",
              "      <th>Age</th>\n",
              "      <th>EstimatedSalary</th>\n",
              "      <th>Purchased</th>\n",
              "    </tr>\n",
              "  </thead>\n",
              "  <tbody>\n",
              "    <tr>\n",
              "      <th>0</th>\n",
              "      <td>19</td>\n",
              "      <td>19000</td>\n",
              "      <td>0</td>\n",
              "    </tr>\n",
              "    <tr>\n",
              "      <th>1</th>\n",
              "      <td>35</td>\n",
              "      <td>20000</td>\n",
              "      <td>0</td>\n",
              "    </tr>\n",
              "    <tr>\n",
              "      <th>2</th>\n",
              "      <td>26</td>\n",
              "      <td>43000</td>\n",
              "      <td>0</td>\n",
              "    </tr>\n",
              "    <tr>\n",
              "      <th>3</th>\n",
              "      <td>27</td>\n",
              "      <td>57000</td>\n",
              "      <td>0</td>\n",
              "    </tr>\n",
              "    <tr>\n",
              "      <th>4</th>\n",
              "      <td>19</td>\n",
              "      <td>76000</td>\n",
              "      <td>0</td>\n",
              "    </tr>\n",
              "  </tbody>\n",
              "</table>\n",
              "</div>"
            ],
            "text/plain": [
              "   Age  EstimatedSalary  Purchased\n",
              "0   19            19000          0\n",
              "1   35            20000          0\n",
              "2   26            43000          0\n",
              "3   27            57000          0\n",
              "4   19            76000          0"
            ]
          },
          "metadata": {},
          "execution_count": 4
        }
      ]
    },
    {
      "cell_type": "code",
      "metadata": {
        "_uuid": "4cb45e28344e7e245ab398e9f4f5272ef21d2129",
        "id": "jwuPgU6_cBE8",
        "colab": {
          "base_uri": "https://localhost:8080/"
        },
        "outputId": "5d563dde-8986-45c9-a51f-c495f0d169c4"
      },
      "source": [
        "#Declare label as last column in the source file\n",
        "Labels = data['Purchased']\n",
        "Labels"
      ],
      "execution_count": 5,
      "outputs": [
        {
          "output_type": "execute_result",
          "data": {
            "text/plain": [
              "0      0\n",
              "1      0\n",
              "2      0\n",
              "3      0\n",
              "4      0\n",
              "      ..\n",
              "395    1\n",
              "396    1\n",
              "397    1\n",
              "398    0\n",
              "399    1\n",
              "Name: Purchased, Length: 400, dtype: int64"
            ]
          },
          "metadata": {},
          "execution_count": 5
        }
      ]
    },
    {
      "cell_type": "code",
      "metadata": {
        "_uuid": "2e7a145fa49435ad9578ec2827f76a70cc99f2e1",
        "id": "2lhBrOp8cBFX"
      },
      "source": [
        "#Declaring X as all columns excluding last\n",
        "X = data.iloc[:,:2]"
      ],
      "execution_count": 6,
      "outputs": []
    },
    {
      "cell_type": "code",
      "metadata": {
        "_uuid": "dffb1f3e19e19964995ac827bf55108b5815ff67",
        "id": "t8nwbTn6cBFp"
      },
      "source": [
        "# Splitting data\n",
        "from sklearn.model_selection import train_test_split\n",
        "X_train, X_test, y_train, y_test = train_test_split(X,Labels,random_state=147,test_size=0.3)"
      ],
      "execution_count": 7,
      "outputs": []
    },
    {
      "cell_type": "code",
      "metadata": {
        "_uuid": "7d4ed14782e114ae3282f20d3754121398e6d232",
        "id": "U4bUiVVFcBGD"
      },
      "source": [
        "# Sacaling data\n",
        "from sklearn.preprocessing import StandardScaler\n",
        "sc = StandardScaler()\n",
        "X_train = sc.fit_transform(X_train)\n",
        "X_test = sc.fit_transform(X_test)"
      ],
      "execution_count": 8,
      "outputs": []
    },
    {
      "cell_type": "code",
      "metadata": {
        "id": "JwrLosoQ35CS",
        "colab": {
          "base_uri": "https://localhost:8080/"
        },
        "outputId": "cebf0dce-5cfa-4c1c-8093-61051e601947"
      },
      "source": [
        "X_test.mean(axis=0)"
      ],
      "execution_count": 9,
      "outputs": [
        {
          "output_type": "execute_result",
          "data": {
            "text/plain": [
              "array([-1.18423789e-16,  1.29526020e-16])"
            ]
          },
          "metadata": {},
          "execution_count": 9
        }
      ]
    },
    {
      "cell_type": "markdown",
      "metadata": {
        "id": "k-jIptip35CT"
      },
      "source": [
        "# Define Functions \n",
        "- sigmoid(Z)\n",
        "- predict(X,Theta,Theta0)\n",
        "- hypothesis(X,Theta)\n",
        "- cost(Y)\n",
        "- sigmoid(z)"
      ]
    },
    {
      "cell_type": "code",
      "metadata": {
        "id": "gGEtGHP935CU"
      },
      "source": [
        "class myLogisticReg: \n",
        "    __sigmoid = lambda self,z :1/(1+pow(np.e,-z))\n",
        "    __loss_func = lambda self,Y,Y_pred : -((Y)@(np.log(Y_pred).T) + (1-Y)@(np.log(1-Y_pred).T))\n",
        "    __Wgrad = lambda self,Y,Y_pred,X : (Y_pred-Y)@X\n",
        "    __bgrad = lambda self,Y,Y_pred : (Y_pred-Y).sum()\n",
        "    \n",
        "    W,b = None,None\n",
        "    def __init__(self):\n",
        "        pass\n",
        "\n",
        "    def fit(self,X,Y,epoch=100,alpha = 1e-3,lmd=1):\n",
        "        self.W = np.random.randn(X.shape[1])\n",
        "        self.b = np.random.random()\n",
        "        \n",
        "        \n",
        "        for e in range(epoch):\n",
        "            pred = self.predict(X)\n",
        "            cost = self.__loss_func(Y,pred)\n",
        "            print(f\"{e+1} : cost = {cost}\")\n",
        "            self.W-=alpha*(self.__Wgrad(Y,pred,X)+lmd*self.W)\n",
        "            self.b-=alpha*self.__bgrad(Y,pred)\n",
        "#             print(self.W,self.b)\n",
        "        return self\n",
        "            \n",
        "    \n",
        "    def predict(self,X_test):\n",
        "        if self.W is None:\n",
        "            raise Exception(\"model is not fitted yet!\")\n",
        "#         print(\"------------>\",self.W.shape,self.b,\"<-------------------\")\n",
        "        Z = X_test@(self.W.T)+self.b\n",
        "        predictions = self.__sigmoid(Z)\n",
        "        return predictions"
      ],
      "execution_count": 10,
      "outputs": []
    },
    {
      "cell_type": "code",
      "metadata": {
        "id": "OwH9Jfwh35CW",
        "colab": {
          "base_uri": "https://localhost:8080/"
        },
        "outputId": "07579bfb-5894-46a5-abc6-59e0838fed12"
      },
      "source": [
        "np.random.random()"
      ],
      "execution_count": 11,
      "outputs": [
        {
          "output_type": "execute_result",
          "data": {
            "text/plain": [
              "0.8998578570414615"
            ]
          },
          "metadata": {},
          "execution_count": 11
        }
      ]
    },
    {
      "cell_type": "code",
      "metadata": {
        "_uuid": "a939c247b8a092f74c9843975612daa85c423621",
        "id": "rEiF-bNHcBJB",
        "colab": {
          "base_uri": "https://localhost:8080/"
        },
        "outputId": "8de9c5ea-7bd7-42f9-e9d8-6bdc45cc8fea"
      },
      "source": [
        "mymodel = myLogisticReg()\n",
        "mymodel.fit(X_train,y_train,alpha=1e-2,epoch=50)"
      ],
      "execution_count": 12,
      "outputs": [
        {
          "output_type": "stream",
          "name": "stdout",
          "text": [
            "1 : cost = 169.10766977180072\n",
            "2 : cost = 124.43746880126308\n",
            "3 : cost = 107.08295749678695\n",
            "4 : cost = 100.14057691360131\n",
            "5 : cost = 97.2779920055859\n",
            "6 : cost = 96.01927548964196\n",
            "7 : cost = 95.39552887364457\n",
            "8 : cost = 95.03281927581642\n",
            "9 : cost = 94.78683191137424\n",
            "10 : cost = 94.6004506863863\n",
            "11 : cost = 94.44969871381723\n",
            "12 : cost = 94.32343860756879\n",
            "13 : cost = 94.21572311524018\n",
            "14 : cost = 94.12286578051011\n",
            "15 : cost = 94.04228326683413\n",
            "16 : cost = 93.97201212934823\n",
            "17 : cost = 93.91048856946949\n",
            "18 : cost = 93.85643491179368\n",
            "19 : cost = 93.80879234588977\n",
            "20 : cost = 93.76667584990125\n",
            "21 : cost = 93.72934122750118\n",
            "22 : cost = 93.69615970509815\n",
            "23 : cost = 93.66659778287107\n",
            "24 : cost = 93.6402010035038\n",
            "25 : cost = 93.61658076235713\n",
            "26 : cost = 93.59540352992872\n",
            "27 : cost = 93.57638200931041\n",
            "28 : cost = 93.55926785562846\n",
            "29 : cost = 93.54384566150495\n",
            "30 : cost = 93.52992797190043\n",
            "31 : cost = 93.51735113832913\n",
            "32 : cost = 93.50597185945166\n",
            "33 : cost = 93.49566428456723\n",
            "34 : cost = 93.48631758012604\n",
            "35 : cost = 93.47783387827633\n",
            "36 : cost = 93.47012654161546\n",
            "37 : cost = 93.4631186904891\n",
            "38 : cost = 93.45674194898373\n",
            "39 : cost = 93.45093537366398\n",
            "40 : cost = 93.44564453550038\n",
            "41 : cost = 93.44082073061878\n",
            "42 : cost = 93.43642029971619\n",
            "43 : cost = 93.43240403942502\n",
            "44 : cost = 93.42873669171624\n",
            "45 : cost = 93.42538649973545\n",
            "46 : cost = 93.42232482035945\n",
            "47 : cost = 93.41952578532133\n",
            "48 : cost = 93.4169660040442\n",
            "49 : cost = 93.41462430239312\n",
            "50 : cost = 93.41248149244433\n"
          ]
        },
        {
          "output_type": "execute_result",
          "data": {
            "text/plain": [
              "<__main__.myLogisticReg at 0x7f68facc5150>"
            ]
          },
          "metadata": {},
          "execution_count": 12
        }
      ]
    },
    {
      "cell_type": "code",
      "metadata": {
        "_uuid": "b7ae24169a21c7ac8ea0787f4a38a0de3e07a6b5",
        "id": "MPt5nUcpcBJR",
        "colab": {
          "base_uri": "https://localhost:8080/"
        },
        "outputId": "cb1e401f-f9fa-4b0f-bb1d-aa45d8a7b4b6"
      },
      "source": [
        "y_pred = mymodel.predict(X_test)\n",
        "y_pred "
      ],
      "execution_count": 13,
      "outputs": [
        {
          "output_type": "execute_result",
          "data": {
            "text/plain": [
              "array([4.42224718e-01, 3.34797052e-01, 7.71136360e-03, 7.29329533e-01,\n",
              "       5.14019069e-03, 1.92841898e-02, 2.02565327e-01, 4.94281427e-01,\n",
              "       9.81680001e-02, 3.27923284e-01, 2.68531137e-02, 1.46723835e-02,\n",
              "       1.22830221e-01, 9.06717857e-01, 9.26364132e-01, 2.02172632e-01,\n",
              "       1.04997244e-02, 7.85703481e-03, 9.60883473e-01, 2.27708855e-01,\n",
              "       9.76789885e-01, 2.67941778e-03, 1.16549934e-01, 8.20339780e-01,\n",
              "       6.11894118e-01, 4.09587645e-02, 4.44926778e-01, 2.71006749e-01,\n",
              "       8.20096489e-03, 1.25276210e-01, 1.16675241e-01, 9.35394210e-01,\n",
              "       8.32464457e-02, 1.19910982e-01, 1.92841898e-02, 3.25132309e-02,\n",
              "       4.27602529e-03, 6.59461306e-01, 1.56695740e-01, 9.04165865e-01,\n",
              "       6.80307742e-01, 2.80728489e-01, 7.59510657e-01, 9.78207726e-01,\n",
              "       9.84788667e-01, 4.51407774e-02, 2.51556413e-03, 9.40796126e-01,\n",
              "       2.24409040e-01, 4.75053353e-02, 3.07489028e-01, 9.84260420e-01,\n",
              "       4.45227210e-01, 1.96637410e-01, 5.81750625e-01, 9.77973124e-01,\n",
              "       1.29673670e-01, 1.82710965e-01, 1.56374531e-01, 3.23370116e-03,\n",
              "       9.53416541e-01, 9.57549420e-03, 2.79720050e-02, 8.77745262e-01,\n",
              "       4.17184219e-01, 8.46557478e-04, 1.21960215e-02, 4.24152229e-01,\n",
              "       9.01767354e-01, 4.69117159e-03, 6.02907398e-02, 3.54053574e-02,\n",
              "       8.13199670e-03, 4.64970890e-02, 3.23224564e-02, 4.24449361e-01,\n",
              "       9.49162575e-01, 1.03865911e-02, 9.51796314e-01, 2.50951527e-01,\n",
              "       9.84279253e-01, 1.33537355e-02, 6.99180023e-01, 2.93174249e-01,\n",
              "       7.41462216e-03, 1.91029363e-01, 6.73790116e-01, 4.76707306e-02,\n",
              "       2.75234066e-01, 6.90018759e-01, 9.72936288e-01, 1.20296628e-01,\n",
              "       8.30334529e-01, 2.41245546e-01, 3.84760264e-01, 4.21949748e-02,\n",
              "       7.34204114e-02, 9.66708598e-01, 8.30163093e-01, 2.76935861e-01,\n",
              "       9.47341906e-01, 3.22978274e-03, 2.07023454e-01, 9.10008822e-01,\n",
              "       7.41686675e-02, 2.03959427e-02, 9.76817447e-01, 7.54474867e-01,\n",
              "       5.96862901e-03, 2.81712006e-01, 1.96135368e-03, 6.13326689e-03,\n",
              "       2.21668737e-01, 2.51180251e-01, 1.50915338e-02, 3.92130292e-01,\n",
              "       3.44417432e-02, 9.07537682e-01, 9.83863864e-03, 3.23370116e-03])"
            ]
          },
          "metadata": {},
          "execution_count": 13
        }
      ]
    },
    {
      "cell_type": "code",
      "metadata": {
        "_uuid": "967ad1b72305ad792a5d50e4d8b8a07632f7b241",
        "id": "79HPPz7jcBJg",
        "scrolled": false,
        "colab": {
          "base_uri": "https://localhost:8080/"
        },
        "outputId": "a8afda72-4f19-4552-e644-bb2b0ddca41e"
      },
      "source": [
        "#print actual and predicted values in a table\n",
        "y_test"
      ],
      "execution_count": 14,
      "outputs": [
        {
          "output_type": "execute_result",
          "data": {
            "text/plain": [
              "7      1\n",
              "357    0\n",
              "43     0\n",
              "297    1\n",
              "158    0\n",
              "      ..\n",
              "220    0\n",
              "183    0\n",
              "355    1\n",
              "99     0\n",
              "92     0\n",
              "Name: Purchased, Length: 120, dtype: int64"
            ]
          },
          "metadata": {},
          "execution_count": 14
        }
      ]
    },
    {
      "cell_type": "code",
      "metadata": {
        "_uuid": "a59807150900082ab876ef0200c6c7f8f93e098c",
        "id": "sdZDj_iVcBJt",
        "colab": {
          "base_uri": "https://localhost:8080/"
        },
        "outputId": "3d1b59db-b039-4216-de41-ebeae74cd988"
      },
      "source": [
        "# Calculating accuracy of prediction\n",
        "# len(X_test)\n",
        "accuracy = ((y_pred>=0.5)==y_test.to_numpy(dtype=np.bool)).sum()/len(y_pred)\n",
        "accuracy"
      ],
      "execution_count": 15,
      "outputs": [
        {
          "output_type": "execute_result",
          "data": {
            "text/plain": [
              "0.8"
            ]
          },
          "metadata": {},
          "execution_count": 15
        }
      ]
    },
    {
      "cell_type": "markdown",
      "metadata": {
        "id": "x6nmajpzhAEn"
      },
      "source": [
        "#Using sklearn LogisticRegression model"
      ]
    },
    {
      "cell_type": "code",
      "metadata": {
        "_kg_hide-output": true,
        "_uuid": "9aaade066015e04f20dd7eb1d37339be75ca3836",
        "id": "iG-BK4i9cBKH"
      },
      "source": [
        "# Fitting Logistic Regression to the Training set\n",
        "from sklearn.linear_model import LogisticRegression\n",
        "LR = LogisticRegression(random_state = 147)\n",
        "\n",
        "#Fit\n",
        "LR.fit(X_train,y_train)\n",
        "#predicting the test label with LR. Predict always takes X as input\n",
        "y1 = LR.predict(X_test)"
      ],
      "execution_count": 16,
      "outputs": []
    },
    {
      "cell_type": "code",
      "metadata": {
        "id": "OcLCNdwD35Cb",
        "colab": {
          "base_uri": "https://localhost:8080/"
        },
        "outputId": "7c1aa627-469f-40f0-d02b-8d4410127a67"
      },
      "source": [
        "from sklearn.metrics import classification_report\n",
        "print(classification_report(y_test,y1))\n",
        "print(classification_report(y_test,y_pred>=0.5))"
      ],
      "execution_count": 17,
      "outputs": [
        {
          "output_type": "stream",
          "name": "stdout",
          "text": [
            "              precision    recall  f1-score   support\n",
            "\n",
            "           0       0.79      0.92      0.85        72\n",
            "           1       0.83      0.62      0.71        48\n",
            "\n",
            "    accuracy                           0.80       120\n",
            "   macro avg       0.81      0.77      0.78       120\n",
            "weighted avg       0.80      0.80      0.79       120\n",
            "\n",
            "              precision    recall  f1-score   support\n",
            "\n",
            "           0       0.79      0.92      0.85        72\n",
            "           1       0.83      0.62      0.71        48\n",
            "\n",
            "    accuracy                           0.80       120\n",
            "   macro avg       0.81      0.77      0.78       120\n",
            "weighted avg       0.80      0.80      0.79       120\n",
            "\n"
          ]
        }
      ]
    }
  ]
}