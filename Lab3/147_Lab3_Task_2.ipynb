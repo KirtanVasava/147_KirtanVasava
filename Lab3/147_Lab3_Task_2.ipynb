{
  "nbformat": 4,
  "nbformat_minor": 0,
  "metadata": {
    "colab": {
      "name": "147_Lab3_Task_2.ipynb",
      "provenance": [],
      "authorship_tag": "ABX9TyORmbpcMjAdpGMK8YL1C8Vr"
    },
    "kernelspec": {
      "name": "python3",
      "display_name": "Python 3"
    },
    "language_info": {
      "name": "python"
    }
  },
  "cells": [
    {
      "cell_type": "code",
      "metadata": {
        "colab": {
          "base_uri": "https://localhost:8080/"
        },
        "id": "NfJ97IveU5b_",
        "outputId": "1cced851-7376-4d55-df2a-b9101c4dd8d6"
      },
      "source": [
        "from google.colab import drive\n",
        "drive.mount('/content/drive')"
      ],
      "execution_count": 1,
      "outputs": [
        {
          "output_type": "stream",
          "name": "stdout",
          "text": [
            "Mounted at /content/drive\n"
          ]
        }
      ]
    },
    {
      "cell_type": "markdown",
      "metadata": {
        "id": "FyK9Y75KVT_n"
      },
      "source": [
        "Roll Number : CE147\n",
        "Exercise 6\n",
        "\n",
        "#Task 2: Apply algorithm on breast cancer wisconsin dataset - One Hot Encoding of features: and Train test Division 50%-50%\n",
        "\n"
      ]
    },
    {
      "cell_type": "code",
      "metadata": {
        "id": "L4GDJsHCVVCS"
      },
      "source": [
        "# Importing required libraries\n",
        "import numpy as np \n",
        "import pandas as pd\n",
        "from sklearn.preprocessing import LabelEncoder\n",
        "from sklearn.naive_bayes import GaussianNB\n",
        "from sklearn.metrics import accuracy_score, precision_score, recall_score, confusion_matrix"
      ],
      "execution_count": 2,
      "outputs": []
    },
    {
      "cell_type": "code",
      "metadata": {
        "colab": {
          "base_uri": "https://localhost:8080/"
        },
        "id": "SR68nqXKVoc7",
        "outputId": "741929f9-e36a-43c1-a3f9-584e69322389"
      },
      "source": [
        "# Loading dataset\n",
        "dataset = pd.read_csv('/content/drive/MyDrive/Colab Notebooks/ML/Lab3/breast-cancer-wisconsin-dataset.csv') \n",
        "print(\"\\nData :\\n\", dataset)"
      ],
      "execution_count": 4,
      "outputs": [
        {
          "output_type": "stream",
          "name": "stdout",
          "text": [
            "\n",
            "Data :\n",
            "            id diagnosis  ...  fractal_dimension_worst  Unnamed: 32\n",
            "0      842302         M  ...                  0.11890          NaN\n",
            "1      842517         M  ...                  0.08902          NaN\n",
            "2    84300903         M  ...                  0.08758          NaN\n",
            "3    84348301         M  ...                  0.17300          NaN\n",
            "4    84358402         M  ...                  0.07678          NaN\n",
            "..        ...       ...  ...                      ...          ...\n",
            "564    926424         M  ...                  0.07115          NaN\n",
            "565    926682         M  ...                  0.06637          NaN\n",
            "566    926954         M  ...                  0.07820          NaN\n",
            "567    927241         M  ...                  0.12400          NaN\n",
            "568     92751         B  ...                  0.07039          NaN\n",
            "\n",
            "[569 rows x 33 columns]\n"
          ]
        }
      ]
    },
    {
      "cell_type": "code",
      "metadata": {
        "id": "VcSEHdIRV46A"
      },
      "source": [
        "# prepare features set\n",
        "features = dataset.iloc[:, 2:-1].values\n",
        "# print(features)\n",
        "\n",
        "# label encoding\n",
        "le = LabelEncoder()\n",
        "target = le.fit_transform(dataset.iloc[:, 1].values)    # 1 - M, 0 - B\n",
        "# print(target)"
      ],
      "execution_count": 5,
      "outputs": []
    },
    {
      "cell_type": "code",
      "metadata": {
        "id": "4VZ5PnbvV7vb"
      },
      "source": [
        "#import the necessary module\n",
        "from sklearn.model_selection import train_test_split\n",
        "\n",
        "#split data set into train and test sets\n",
        "data_train, data_test, target_train, target_test = train_test_split(features,\n",
        "                        target, test_size = 0.5, random_state = 147)"
      ],
      "execution_count": 9,
      "outputs": []
    },
    {
      "cell_type": "code",
      "metadata": {
        "colab": {
          "base_uri": "https://localhost:8080/"
        },
        "id": "i2F2cb5uV-ho",
        "outputId": "8ce98629-57d0-4d2e-c4e3-e05df582dae7"
      },
      "source": [
        "# Training model\n",
        "model = GaussianNB()\n",
        "\n",
        "#Train the model using the training sets\n",
        "model.fit(data_train, target_train)"
      ],
      "execution_count": 10,
      "outputs": [
        {
          "output_type": "execute_result",
          "data": {
            "text/plain": [
              "GaussianNB(priors=None, var_smoothing=1e-09)"
            ]
          },
          "metadata": {},
          "execution_count": 10
        }
      ]
    },
    {
      "cell_type": "code",
      "metadata": {
        "id": "jm7nAPEDWBHX"
      },
      "source": [
        "# Testing model\n",
        "# Division train test is 50 : 50\n",
        "target_pred = model.predict(data_test)"
      ],
      "execution_count": 11,
      "outputs": []
    },
    {
      "cell_type": "code",
      "metadata": {
        "colab": {
          "base_uri": "https://localhost:8080/"
        },
        "id": "_EW7TQ4mWEHL",
        "outputId": "a089f4af-1905-47e9-a8bd-0fbd594e9ce0"
      },
      "source": [
        "# Accuracy\n",
        "print(\"Accuracy: \", accuracy_score(target_test, target_pred))\n",
        "\n",
        "# Precision\n",
        "print(\"Precision: \", precision_score(target_test, target_pred))\n",
        "\n",
        "# Recall\n",
        "print(\"Recall: \", recall_score(target_test, target_pred))\n",
        "\n",
        "# Confusion matrix\n",
        "print(\"Confusion matrix: \")\n",
        "confusion_matrix(target_test, target_pred)"
      ],
      "execution_count": 12,
      "outputs": [
        {
          "output_type": "stream",
          "name": "stdout",
          "text": [
            "Accuracy:  0.9122807017543859\n",
            "Precision:  0.897196261682243\n",
            "Recall:  0.8727272727272727\n",
            "Confusion matrix: \n"
          ]
        },
        {
          "output_type": "execute_result",
          "data": {
            "text/plain": [
              "array([[164,  11],\n",
              "       [ 14,  96]])"
            ]
          },
          "metadata": {},
          "execution_count": 12
        }
      ]
    }
  ]
}