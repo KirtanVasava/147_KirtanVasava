{
  "nbformat": 4,
  "nbformat_minor": 0,
  "metadata": {
    "colab": {
      "name": "147_Lab3_Task_1.ipynb",
      "provenance": [],
      "authorship_tag": "ABX9TyOMpDGFJTqYpGvmDTz9n9o3"
    },
    "kernelspec": {
      "name": "python3",
      "display_name": "Python 3"
    },
    "language_info": {
      "name": "python"
    }
  },
  "cells": [
    {
      "cell_type": "markdown",
      "metadata": {
        "id": "lgY9gMuhND7J"
      },
      "source": [
        "#Task 1: Try the algo on Dataset3 - LabelEncoding of features:and Train test Division 95%-5%\n",
        "\n",
        "Instruction for Task-1 & 2:\n",
        "\n",
        "i) Set Random state of model equals to your roll number (or last 2 digit of your id -if you don't have roll number)\n",
        "\n",
        "Questions: For Task - 1\n",
        "\n",
        "(1) What will be the value of Play, if Outlook is ’Rainy’, Temperature is ’Mild’, Humidity =’Normal’, and Wind = ’False’?\n",
        "\n",
        "(2) What will be the value of Play, if Outlook is ’Sunny’, Temeprature is ’Cool’, Humidity =’High’, and Wind = ’True’?\n",
        "\n",
        "(3) Accuracy , precision and recall of both Models?\n",
        "\n"
      ]
    },
    {
      "cell_type": "code",
      "metadata": {
        "colab": {
          "base_uri": "https://localhost:8080/"
        },
        "id": "Z4Sj-ZA-NF7Y",
        "outputId": "fb2f23ca-6478-4566-8e7e-b14ef00a009f"
      },
      "source": [
        "from google.colab import drive\n",
        "drive.mount('/content/drive')"
      ],
      "execution_count": 1,
      "outputs": [
        {
          "output_type": "stream",
          "name": "stdout",
          "text": [
            "Mounted at /content/drive\n"
          ]
        }
      ]
    },
    {
      "cell_type": "code",
      "metadata": {
        "id": "Hxss2bCDNlZf"
      },
      "source": [
        "# Importing required libraries\n",
        "import numpy as np \n",
        "import pandas as pd\n",
        "from sklearn import preprocessing\n",
        "from sklearn.naive_bayes import GaussianNB, MultinomialNB\n",
        "from sklearn.metrics import accuracy_score, precision_score, recall_score, confusion_matrix"
      ],
      "execution_count": 2,
      "outputs": []
    },
    {
      "cell_type": "code",
      "metadata": {
        "colab": {
          "base_uri": "https://localhost:8080/"
        },
        "id": "oNEd4Rc4Nrje",
        "outputId": "7f148945-7a7d-455f-e235-48a89114bfb1"
      },
      "source": [
        "# Loading dataset\n",
        "dataset = pd.read_csv('/content/drive/MyDrive/Colab Notebooks/ML/Lab3/Dataset3.csv') \n",
        "print(\"\\nData :\\n\", dataset)"
      ],
      "execution_count": 3,
      "outputs": [
        {
          "output_type": "stream",
          "name": "stdout",
          "text": [
            "\n",
            "Data :\n",
            "    Outlook Temp Wind  Humidity  Class\n",
            "0        R    H    F         1      0\n",
            "1        R    H    T         2      0\n",
            "2        O    H    F         1      1\n",
            "3        R    M    F         1      1\n",
            "4        S    C    F         1      1\n",
            "5        O    C    T         0      0\n",
            "6        O    C    T         1      1\n",
            "7        R    M    F         1      0\n",
            "8        O    C    F         0      1\n",
            "9        S    M    F         2      1\n",
            "10       R    C    T         2      0\n",
            "11       O    M    T         0      1\n",
            "12       O    H    F         1      1\n",
            "13       S    M    T         1      0\n"
          ]
        }
      ]
    },
    {
      "cell_type": "code",
      "metadata": {
        "id": "Ezx4H4zeN7KZ"
      },
      "source": [
        "# Preparing columns for label encoding\n",
        "outlook = dataset[\"Outlook\"]\n",
        "temp = dataset[\"Temp\"]\n",
        "wind = dataset[\"Wind\"]\n",
        "humidity = dataset[\"Humidity\"]\n",
        "class_label = dataset[\"Class\"]\n",
        "\n",
        "# print(outlook)\n",
        "# print(temp)\n",
        "# print(wind)"
      ],
      "execution_count": 4,
      "outputs": []
    },
    {
      "cell_type": "code",
      "metadata": {
        "colab": {
          "base_uri": "https://localhost:8080/"
        },
        "id": "sNlIOnYQONfv",
        "outputId": "bc1fa432-ee15-40b8-b21d-34251e58c583"
      },
      "source": [
        "# Label encoding\n",
        "le = preprocessing.LabelEncoder()\n",
        "\n",
        "outlook_encoded = le.fit_transform(outlook)\n",
        "print(\"Outlook:   \", outlook_encoded) # 1 - R, 0 - O, 2 - S\n",
        "\n",
        "temp_encoded = le.fit_transform(temp)\n",
        "print(\"Temp:      \", temp_encoded)    # 1 - H, 0 - C, 2 - M\n",
        "\n",
        "wind_encoded = le.fit_transform(wind)\n",
        "print(\"Wind:      \", wind_encoded)    # 1 - True, 0 - False\n",
        "\n",
        "humidity_encoded = le.fit_transform(humidity)\n",
        "print(\"Humidity : \", humidity_encoded)  # 1 - Normal, 2 - High, 0 - Low\n",
        "\n",
        "target = le.fit_transform(class_label)\n",
        "print(\"Class :    \", target)\n"
      ],
      "execution_count": 5,
      "outputs": [
        {
          "output_type": "stream",
          "name": "stdout",
          "text": [
            "Outlook:    [1 1 0 1 2 0 0 1 0 2 1 0 0 2]\n",
            "Temp:       [1 1 1 2 0 0 0 2 0 2 0 2 1 2]\n",
            "Wind:       [0 1 0 0 0 1 1 0 0 0 1 1 0 1]\n",
            "Humidity :  [1 2 1 1 1 0 1 1 0 2 2 0 1 1]\n",
            "Class :     [0 0 1 1 1 0 1 0 1 1 0 1 1 0]\n"
          ]
        }
      ]
    },
    {
      "cell_type": "code",
      "metadata": {
        "colab": {
          "base_uri": "https://localhost:8080/"
        },
        "id": "JCr9D-P1OZJR",
        "outputId": "6afe30cd-7a3f-48d4-ea0e-6d03d056ddfb"
      },
      "source": [
        "# Merging label encoded features\n",
        "features = tuple(zip(outlook_encoded, temp_encoded, wind_encoded, humidity_encoded))\n",
        "print(\"Features: \", features)"
      ],
      "execution_count": 6,
      "outputs": [
        {
          "output_type": "stream",
          "name": "stdout",
          "text": [
            "Features:  ((1, 1, 0, 1), (1, 1, 1, 2), (0, 1, 0, 1), (1, 2, 0, 1), (2, 0, 0, 1), (0, 0, 1, 0), (0, 0, 1, 1), (1, 2, 0, 1), (0, 0, 0, 0), (2, 2, 0, 2), (1, 0, 1, 2), (0, 2, 1, 0), (0, 1, 0, 1), (2, 2, 1, 1))\n"
          ]
        }
      ]
    },
    {
      "cell_type": "code",
      "metadata": {
        "id": "84MEzaEQOeNR"
      },
      "source": [
        "#import the necessary module\n",
        "from sklearn.model_selection import train_test_split\n",
        "\n",
        "#split data set into train and test sets\n",
        "data_train, data_test, target_train, target_test = train_test_split(features,\n",
        "                        target, test_size = 0.05, random_state = 147)"
      ],
      "execution_count": 7,
      "outputs": []
    },
    {
      "cell_type": "markdown",
      "metadata": {
        "id": "yO7LQnEBPQtk"
      },
      "source": [
        "Model 1 - Multinomial Naive Bayes"
      ]
    },
    {
      "cell_type": "code",
      "metadata": {
        "colab": {
          "base_uri": "https://localhost:8080/"
        },
        "id": "KFIn3q6nPa9D",
        "outputId": "ebec0a0c-ade5-4bbe-cd33-2b8b8866b693"
      },
      "source": [
        "# Let's train 1st model\n",
        "model1 = MultinomialNB()\n",
        "# Train the model using the training sets\n",
        "model1.fit(data_train, target_train)"
      ],
      "execution_count": 8,
      "outputs": [
        {
          "output_type": "execute_result",
          "data": {
            "text/plain": [
              "MultinomialNB(alpha=1.0, class_prior=None, fit_prior=True)"
            ]
          },
          "metadata": {},
          "execution_count": 8
        }
      ]
    },
    {
      "cell_type": "code",
      "metadata": {
        "id": "_b081QnfPnG_"
      },
      "source": [
        "# Testing model1\n",
        "# Division train test is 95 : 5\n",
        "target_pred_model1 = model1.predict(data_test)\n",
        "# print(data_test)\n",
        "# print(target_pred_model1)\n",
        "# print(target_test)"
      ],
      "execution_count": 9,
      "outputs": []
    },
    {
      "cell_type": "code",
      "metadata": {
        "colab": {
          "base_uri": "https://localhost:8080/"
        },
        "id": "oV4kTIZfPr--",
        "outputId": "163248ce-2ecd-4b2c-9d0a-64ff05d28847"
      },
      "source": [
        "# 1st question\n",
        "predicted1 = model1.predict([[1,2,1,1]])    # 1:Rainy, 2: Mild, 1: Normal, 1: True\n",
        "print(\"Predicted Value:\", predicted1)"
      ],
      "execution_count": 10,
      "outputs": [
        {
          "output_type": "stream",
          "name": "stdout",
          "text": [
            "Predicted Value: [1]\n"
          ]
        }
      ]
    },
    {
      "cell_type": "code",
      "metadata": {
        "colab": {
          "base_uri": "https://localhost:8080/"
        },
        "id": "9M1u2OOgPv1T",
        "outputId": "3f994a76-12af-4496-c80c-d9bd93080f54"
      },
      "source": [
        "# 2nd question\n",
        "predicted2 = model1.predict([[2,0,2,1]])    # 2:Sunny, 0:Cool, 2:High, 1:True\n",
        "print(\"Predicted Value:\", predicted2)"
      ],
      "execution_count": 12,
      "outputs": [
        {
          "output_type": "stream",
          "name": "stdout",
          "text": [
            "Predicted Value: [0]\n"
          ]
        }
      ]
    },
    {
      "cell_type": "code",
      "metadata": {
        "colab": {
          "base_uri": "https://localhost:8080/"
        },
        "id": "d9r37Iq0Py3-",
        "outputId": "49a88c56-f4c3-490e-b676-32ac345f2746"
      },
      "source": [
        "# 3rd question\n",
        "\n",
        "# Accuracy\n",
        "print(\"Accuracy: \", accuracy_score(target_test, target_pred_model1))\n",
        "\n",
        "# Precision\n",
        "print(\"Precision: \", precision_score(target_test, target_pred_model1))\n",
        "\n",
        "# Recall\n",
        "print(\"Recall: \", recall_score(target_test, target_pred_model1))"
      ],
      "execution_count": 11,
      "outputs": [
        {
          "output_type": "stream",
          "name": "stdout",
          "text": [
            "Accuracy:  1.0\n",
            "Precision:  1.0\n",
            "Recall:  1.0\n"
          ]
        }
      ]
    },
    {
      "cell_type": "markdown",
      "metadata": {
        "id": "2kDE6-1SP_Ew"
      },
      "source": [
        "Model 2 - Gaussian Naive Bayes"
      ]
    },
    {
      "cell_type": "code",
      "metadata": {
        "colab": {
          "base_uri": "https://localhost:8080/"
        },
        "id": "Z9j-a2lhQAm1",
        "outputId": "85b4ebbb-d82b-4f6c-98b7-fbd9e1019165"
      },
      "source": [
        "# Let's train 2nd model\n",
        "model2 = GaussianNB()\n",
        "\n",
        "#Train the model using the training sets\n",
        "model2.fit(data_train, target_train)"
      ],
      "execution_count": 13,
      "outputs": [
        {
          "output_type": "execute_result",
          "data": {
            "text/plain": [
              "GaussianNB(priors=None, var_smoothing=1e-09)"
            ]
          },
          "metadata": {},
          "execution_count": 13
        }
      ]
    },
    {
      "cell_type": "code",
      "metadata": {
        "id": "CN-wgSYDQFOa"
      },
      "source": [
        "# Testing model2\n",
        "# Division train test is 95 : 5\n",
        "target_pred_model2 = model2.predict(data_test)\n",
        "# print(data_test)\n",
        "# print(target_pred_model1)\n",
        "# print(target_test)"
      ],
      "execution_count": 14,
      "outputs": []
    },
    {
      "cell_type": "code",
      "metadata": {
        "colab": {
          "base_uri": "https://localhost:8080/"
        },
        "id": "Jqi7KiY_QICk",
        "outputId": "c12d8a8e-30e8-4cfe-ffb3-a4c1d246815c"
      },
      "source": [
        "# 1st question\n",
        "predicted3 = model2.predict([[1,2,1,1]])    # 1:Rainy, 2: Mild, 1: Normal, 1: True\n",
        "print(\"Predicted Value:\", predicted3)"
      ],
      "execution_count": 15,
      "outputs": [
        {
          "output_type": "stream",
          "name": "stdout",
          "text": [
            "Predicted Value: [0]\n"
          ]
        }
      ]
    },
    {
      "cell_type": "code",
      "metadata": {
        "colab": {
          "base_uri": "https://localhost:8080/"
        },
        "id": "oFa_ax8WQLYn",
        "outputId": "2090aafe-b1bf-414a-a9ab-b79c9b91899a"
      },
      "source": [
        "# 2nd question\n",
        "predicted4 = model2.predict([[2,0,2,1]])    # 2:Sunny, 0:Cool, 2:High, 1:True\n",
        "print(\"Predicted Value:\", predicted4)"
      ],
      "execution_count": 16,
      "outputs": [
        {
          "output_type": "stream",
          "name": "stdout",
          "text": [
            "Predicted Value: [0]\n"
          ]
        }
      ]
    },
    {
      "cell_type": "code",
      "metadata": {
        "colab": {
          "base_uri": "https://localhost:8080/"
        },
        "id": "83vNWFziQOT7",
        "outputId": "5e125c6c-23a8-4cfb-c9f0-40df5c9bf998"
      },
      "source": [
        "# 3rd question\n",
        "\n",
        "# Accuracy\n",
        "print(\"Accuracy: \", accuracy_score(target_test, target_pred_model2))\n",
        "\n",
        "# Precision\n",
        "print(\"Precision: \", precision_score(target_test, target_pred_model2))\n",
        "\n",
        "# Recall\n",
        "print(\"Recall: \", recall_score(target_test, target_pred_model2))"
      ],
      "execution_count": 17,
      "outputs": [
        {
          "output_type": "stream",
          "name": "stdout",
          "text": [
            "Accuracy:  1.0\n",
            "Precision:  1.0\n",
            "Recall:  1.0\n"
          ]
        }
      ]
    }
  ]
}