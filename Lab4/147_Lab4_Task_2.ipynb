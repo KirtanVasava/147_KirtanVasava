{
  "nbformat": 4,
  "nbformat_minor": 0,
  "metadata": {
    "colab": {
      "name": "147_Lab4_Task_2.ipynb",
      "provenance": [],
      "authorship_tag": "ABX9TyMRaxGAxCk0Y/IsKb0lQf+e"
    },
    "kernelspec": {
      "name": "python3",
      "display_name": "Python 3"
    },
    "language_info": {
      "name": "python"
    }
  },
  "cells": [
    {
      "cell_type": "code",
      "metadata": {
        "id": "wIk8J_ir8wt9"
      },
      "source": [
        "#Import scikit-learn dataset library\n",
        "from sklearn import datasets\n",
        "from sklearn.tree import DecisionTreeClassifier\n",
        "import pandas as pd\n",
        "import numpy as np\n",
        "from sklearn import tree\n",
        "#Load dataset\n",
        "iris = datasets.load_iris()"
      ],
      "execution_count": 1,
      "outputs": []
    },
    {
      "cell_type": "code",
      "metadata": {
        "colab": {
          "base_uri": "https://localhost:8080/"
        },
        "id": "lDCUlfns88az",
        "outputId": "62818f8f-73e4-478f-c179-72d745eeaf80"
      },
      "source": [
        "# print the names of the 13 features\n",
        "\n",
        "print(iris.feature_names)\n",
        "# print the label type of wine(class_0, class_1, class_2)\n",
        "\n",
        "print(iris.target_names)\n",
        "\n",
        "# print data(feature)shape\n",
        "print(iris.data.shape)"
      ],
      "execution_count": 2,
      "outputs": [
        {
          "output_type": "stream",
          "name": "stdout",
          "text": [
            "['sepal length (cm)', 'sepal width (cm)', 'petal length (cm)', 'petal width (cm)']\n",
            "['setosa' 'versicolor' 'virginica']\n",
            "(150, 4)\n"
          ]
        }
      ]
    },
    {
      "cell_type": "code",
      "metadata": {
        "id": "1i_d0HjB9Apr"
      },
      "source": [
        "#import the necessary module\n",
        "from sklearn.model_selection import train_test_split\n",
        "\n",
        "X_train, X_test, y_train, y_test =train_test_split(iris.data,iris.target,test_size=0.3,random_state=147)\n"
      ],
      "execution_count": 4,
      "outputs": []
    },
    {
      "cell_type": "code",
      "metadata": {
        "colab": {
          "base_uri": "https://localhost:8080/"
        },
        "id": "GRZgT2w19BRH",
        "outputId": "173ea24a-7d81-41d6-f73a-33f635ff2c68"
      },
      "source": [
        "from sklearn.tree import DecisionTreeClassifier\n",
        "#Create a Decision Tree Classifier (using Gini)\n",
        "#Train the model using the training sets\n",
        "\n",
        "\n",
        "clf = DecisionTreeClassifier(random_state=147)\n",
        "clf.fit(X_train,y_train)\n"
      ],
      "execution_count": 5,
      "outputs": [
        {
          "output_type": "execute_result",
          "data": {
            "text/plain": [
              "DecisionTreeClassifier(ccp_alpha=0.0, class_weight=None, criterion='gini',\n",
              "                       max_depth=None, max_features=None, max_leaf_nodes=None,\n",
              "                       min_impurity_decrease=0.0, min_impurity_split=None,\n",
              "                       min_samples_leaf=1, min_samples_split=2,\n",
              "                       min_weight_fraction_leaf=0.0, presort='deprecated',\n",
              "                       random_state=147, splitter='best')"
            ]
          },
          "metadata": {},
          "execution_count": 5
        }
      ]
    },
    {
      "cell_type": "code",
      "metadata": {
        "colab": {
          "base_uri": "https://localhost:8080/"
        },
        "id": "SAydvimg9Ffs",
        "outputId": "4a125009-55fa-49b9-d375-1c514bec3200"
      },
      "source": [
        "from sklearn.metrics import classification_report\n",
        "# Predict the classes of test data\n",
        "y_pred = clf.predict(X_test)\n",
        "\n",
        "print(classification_report(y_test,y_pred))"
      ],
      "execution_count": 6,
      "outputs": [
        {
          "output_type": "stream",
          "name": "stdout",
          "text": [
            "              precision    recall  f1-score   support\n",
            "\n",
            "           0       1.00      1.00      1.00        15\n",
            "           1       1.00      0.77      0.87        13\n",
            "           2       0.85      1.00      0.92        17\n",
            "\n",
            "    accuracy                           0.93        45\n",
            "   macro avg       0.95      0.92      0.93        45\n",
            "weighted avg       0.94      0.93      0.93        45\n",
            "\n"
          ]
        }
      ]
    },
    {
      "cell_type": "code",
      "metadata": {
        "colab": {
          "base_uri": "https://localhost:8080/",
          "height": 366
        },
        "id": "EJpeWpBH9IB8",
        "outputId": "f640c412-f0ee-4c40-ad0d-497249fb1a68"
      },
      "source": [
        "from sklearn.tree import plot_tree\n",
        "\n",
        "\n",
        "plot_tree(clf,filled=True,rounded=True)"
      ],
      "execution_count": 7,
      "outputs": [
        {
          "output_type": "execute_result",
          "data": {
            "text/plain": [
              "[Text(133.92000000000002, 190.26, 'X[3] <= 0.8\\ngini = 0.666\\nsamples = 105\\nvalue = [35, 37, 33]'),\n",
              " Text(66.96000000000001, 135.9, 'gini = 0.0\\nsamples = 35\\nvalue = [35, 0, 0]'),\n",
              " Text(200.88000000000002, 135.9, 'X[3] <= 1.65\\ngini = 0.498\\nsamples = 70\\nvalue = [0, 37, 33]'),\n",
              " Text(133.92000000000002, 81.53999999999999, 'X[2] <= 4.95\\ngini = 0.139\\nsamples = 40\\nvalue = [0, 37, 3]'),\n",
              " Text(66.96000000000001, 27.180000000000007, 'gini = 0.0\\nsamples = 37\\nvalue = [0, 37, 0]'),\n",
              " Text(200.88000000000002, 27.180000000000007, 'gini = 0.0\\nsamples = 3\\nvalue = [0, 0, 3]'),\n",
              " Text(267.84000000000003, 81.53999999999999, 'gini = 0.0\\nsamples = 30\\nvalue = [0, 0, 30]')]"
            ]
          },
          "metadata": {},
          "execution_count": 7
        },
        {
          "output_type": "display_data",
          "data": {
            "image/png": "[encoded data removed]",
            "text/plain": [
              "<Figure size 432x288 with 1 Axes>"
            ]
          },
          "metadata": {
            "needs_background": "light"
          }
        }
      ]
    },
    {
      "cell_type": "markdown",
      "metadata": {
        "id": "P0QdEcy-9P2c"
      },
      "source": [
        "Exercise:\n",
        "\n",
        "6) 126<=Rollnumber + All with No RollNumbers:\n",
        "\n",
        "#Task 1: Try the algo on Same Whether dataset - LabelEncoding of features:and Train test Division 95%-5%\n",
        "\n",
        "#Task 2: Apply algorithm on wine dataset - LabelEncoding of features: and Train test Division 66%-34%\n",
        "\n",
        "Instruction for Task-1 & 2:\n",
        "\n",
        "i) Set Random state and maximum allowed leaf of model equals to your roll number (or last 2 digit of your id -if you don't have roll number)\n",
        "\n",
        "Questions: For Task - 1\n",
        "\n",
        "(1) What will be the value of Play, if Outlook is ’Rainy’, Temperature is ’Mild’, Humidity =’Normal’, and Wind = ’False’?\n",
        "\n",
        "(2) What will be the value of Play, if Outlook is ’Sunny’, Temeprature is ’Cool’, Humidity =’High’, and Wind = ’True’?\n",
        "\n",
        "(3) Accuracy , precision and recall of both Models?"
      ]
    },
    {
      "cell_type": "markdown",
      "metadata": {
        "id": "tGMk9cLO9eTI"
      },
      "source": [
        "Task 1:"
      ]
    },
    {
      "cell_type": "code",
      "metadata": {
        "id": "ThWBKN5i9bdE"
      },
      "source": [
        "from sklearn import preprocessing"
      ],
      "execution_count": 8,
      "outputs": []
    },
    {
      "cell_type": "code",
      "metadata": {
        "id": "uB_homs-9j_W"
      },
      "source": [
        "#Predictor variables\n",
        "Outlook = ['Rainy', 'Rainy', 'Overcast', 'Sunny', 'Sunny', 'Sunny', 'Overcast',\n",
        "            'Rainy', 'Rainy', 'Sunny', 'Rainy','Overcast', 'Overcast', 'Sunny']\n",
        "Temperature = ['Hot', 'Hot', 'Hot', 'Mild', 'Cool', 'Cool', 'Cool',\n",
        "                'Mild', 'Cool', 'Mild', 'Mild', 'Mild', 'Hot', 'Mild']\n",
        "Humidity = ['High', 'High', 'High', 'High', 'Normal', 'Normal', 'Normal',\n",
        "            'High', 'Normal', 'Normal', 'Normal', 'High', 'Normal', 'High']\n",
        "Wind = ['False', 'True', 'False', 'False', 'False', 'True', 'True',\n",
        "            'False', 'False', 'False', 'True', 'True', 'False', 'True']\n",
        "\n",
        "#Class Label:\n",
        "Play = ['No', 'No', 'Yes', 'Yes', 'Yes', 'No', 'Yes', 'No',\n",
        "'Yes', 'Yes', 'Yes', 'Yes', 'Yes', 'No']"
      ],
      "execution_count": 9,
      "outputs": []
    },
    {
      "cell_type": "code",
      "metadata": {
        "colab": {
          "base_uri": "https://localhost:8080/"
        },
        "id": "zCi3g37z9mhX",
        "outputId": "94dcd2c7-ca90-4dd9-f5e7-bbd6de65ec9b"
      },
      "source": [
        "#creating labelEncoder\n",
        "le = preprocessing.LabelEncoder()\n",
        "\n",
        "Outlook_encoded = le.fit_transform(Outlook)\n",
        "Outlook_name_mapping = dict(zip(le.classes_, le.transform(le.classes_)))\n",
        "print(\"Outllok mapping:\",Outlook_name_mapping)\n",
        "\n",
        "Temperature_encoded = le.fit_transform(Temperature)\n",
        "Temperature_name_mapping = dict(zip(le.classes_, le.transform(le.classes_)))\n",
        "print(\"Temperature mapping:\",Temperature_name_mapping)\n",
        "\n",
        "Humidity_encoded = le.fit_transform(Humidity)\n",
        "Humidity_name_mapping = dict(zip(le.classes_, le.transform(le.classes_)))\n",
        "print(\"Humidity mapping:\",Humidity_name_mapping)\n",
        "\n",
        "Wind_encoded = le.fit_transform(Wind)\n",
        "Wind_name_mapping = dict(zip(le.classes_, le.transform(le.classes_)))\n",
        "print(\"Wind mapping:\",Wind_name_mapping)\n",
        "\n",
        "Play_encoded = le.fit_transform(Play)\n",
        "Play_name_mapping = dict(zip(le.classes_, le.transform(le.classes_)))\n",
        "print(\"Play mapping:\",Play_name_mapping)\n"
      ],
      "execution_count": 10,
      "outputs": [
        {
          "output_type": "stream",
          "name": "stdout",
          "text": [
            "Outllok mapping: {'Overcast': 0, 'Rainy': 1, 'Sunny': 2}\n",
            "Temperature mapping: {'Cool': 0, 'Hot': 1, 'Mild': 2}\n",
            "Humidity mapping: {'High': 0, 'Normal': 1}\n",
            "Wind mapping: {'False': 0, 'True': 1}\n",
            "Play mapping: {'No': 0, 'Yes': 1}\n"
          ]
        }
      ]
    },
    {
      "cell_type": "code",
      "metadata": {
        "id": "DgWYRJrZ9pIT"
      },
      "source": [
        "X = np.vstack((Wind_encoded,Temperature_encoded,Humidity_encoded,Outlook_encoded)).T\n",
        "Data = pd.DataFrame(data=X,columns=[\"wind\",\"temp\",\"humidity\",\"outlook\"])\n",
        "Labels = pd.Series(data=Play_encoded,name=\"play\")"
      ],
      "execution_count": 11,
      "outputs": []
    },
    {
      "cell_type": "code",
      "metadata": {
        "id": "OeDR3cwI9raI"
      },
      "source": [
        "W_train, W_test, W_y_train, W_y_test =train_test_split(Data,Labels,test_size=0.3,random_state=147)"
      ],
      "execution_count": 12,
      "outputs": []
    },
    {
      "cell_type": "code",
      "metadata": {
        "id": "094A-Uk19tmj"
      },
      "source": [
        "W_model = DecisionTreeClassifier(random_state=147,max_leaf_nodes=147)\n",
        "W_model.fit(W_train,W_y_train)\n",
        "W_y_pred = W_model.predict(W_test)"
      ],
      "execution_count": 13,
      "outputs": []
    },
    {
      "cell_type": "code",
      "metadata": {
        "colab": {
          "base_uri": "https://localhost:8080/"
        },
        "id": "vMCnaoFb9wFC",
        "outputId": "1aa2cc2c-5841-4a8b-bb1a-6ddf7a8b529a"
      },
      "source": [
        "print(classification_report(W_y_test,W_y_pred))"
      ],
      "execution_count": 14,
      "outputs": [
        {
          "output_type": "stream",
          "name": "stdout",
          "text": [
            "              precision    recall  f1-score   support\n",
            "\n",
            "           0       0.67      0.67      0.67         3\n",
            "           1       0.50      0.50      0.50         2\n",
            "\n",
            "    accuracy                           0.60         5\n",
            "   macro avg       0.58      0.58      0.58         5\n",
            "weighted avg       0.60      0.60      0.60         5\n",
            "\n"
          ]
        }
      ]
    },
    {
      "cell_type": "code",
      "metadata": {
        "colab": {
          "base_uri": "https://localhost:8080/"
        },
        "id": "sO0HDEIF9zAu",
        "outputId": "dcb6223e-403b-47cd-82b4-b21162235e69"
      },
      "source": [
        "W_model.predict([[1,2,1,0],[2,0,0,1]])\n"
      ],
      "execution_count": 15,
      "outputs": [
        {
          "output_type": "execute_result",
          "data": {
            "text/plain": [
              "array([1, 0])"
            ]
          },
          "metadata": {},
          "execution_count": 15
        }
      ]
    },
    {
      "cell_type": "markdown",
      "metadata": {
        "id": "0sbV79PR904x"
      },
      "source": [
        "Task 2:"
      ]
    },
    {
      "cell_type": "code",
      "metadata": {
        "id": "MiwOWDyV92cG"
      },
      "source": [
        "wineData = datasets.load_wine()"
      ],
      "execution_count": 16,
      "outputs": []
    },
    {
      "cell_type": "code",
      "metadata": {
        "colab": {
          "base_uri": "https://localhost:8080/"
        },
        "id": "4gkPHYj897vZ",
        "outputId": "5d0c980d-40b8-4687-b5f7-8486cb0868b6"
      },
      "source": [
        "print(wineData.feature_names)\n",
        "print(wineData.data.shape)\n",
        "print(wineData.target_names)"
      ],
      "execution_count": 17,
      "outputs": [
        {
          "output_type": "stream",
          "name": "stdout",
          "text": [
            "['alcohol', 'malic_acid', 'ash', 'alcalinity_of_ash', 'magnesium', 'total_phenols', 'flavanoids', 'nonflavanoid_phenols', 'proanthocyanins', 'color_intensity', 'hue', 'od280/od315_of_diluted_wines', 'proline']\n",
            "(178, 13)\n",
            "['class_0' 'class_1' 'class_2']\n"
          ]
        }
      ]
    },
    {
      "cell_type": "code",
      "metadata": {
        "id": "Eg_pWySE9-n9"
      },
      "source": [
        "Wine_train, Wine_test, Wine_y_train, Wine_y_test =train_test_split(wineData.data,wineData.target,test_size=0.34,random_state=147)"
      ],
      "execution_count": 18,
      "outputs": []
    },
    {
      "cell_type": "code",
      "metadata": {
        "id": "nUkFjV5--BSH"
      },
      "source": [
        "wine_model = DecisionTreeClassifier(random_state=147,max_leaf_nodes=147)\n",
        "wine_model.fit(Wine_train,Wine_y_train)\n",
        "Wine_y_pred = wine_model.predict(Wine_test)"
      ],
      "execution_count": 19,
      "outputs": []
    },
    {
      "cell_type": "code",
      "metadata": {
        "colab": {
          "base_uri": "https://localhost:8080/"
        },
        "id": "i3LqDpPZ-KNA",
        "outputId": "565c39f7-8a7b-4460-d5a7-31990820d1b7"
      },
      "source": [
        "print(classification_report(Wine_y_test,Wine_y_pred))"
      ],
      "execution_count": 20,
      "outputs": [
        {
          "output_type": "stream",
          "name": "stdout",
          "text": [
            "              precision    recall  f1-score   support\n",
            "\n",
            "           0       0.94      0.94      0.94        18\n",
            "           1       0.95      0.73      0.83        26\n",
            "           2       0.70      0.94      0.80        17\n",
            "\n",
            "    accuracy                           0.85        61\n",
            "   macro avg       0.86      0.87      0.86        61\n",
            "weighted avg       0.88      0.85      0.85        61\n",
            "\n"
          ]
        }
      ]
    },
    {
      "cell_type": "code",
      "metadata": {
        "colab": {
          "base_uri": "https://localhost:8080/",
          "height": 399
        },
        "id": "6QiaF3Pp-NML",
        "outputId": "e542f9c6-56ce-45aa-a33a-6066daf58284"
      },
      "source": [
        "plot_tree(wine_model,filled=True,rounded=True)\n",
        "# dotfile = open(\"./winetree.dot\", 'w')\n",
        "# tree.export_graphviz(wine_model, out_file = dotfile, feature_names = wineData.feature_names)\n",
        "# dotfile.close()"
      ],
      "execution_count": 21,
      "outputs": [
        {
          "output_type": "execute_result",
          "data": {
            "text/plain": [
              "[Text(125.55000000000001, 190.26, 'X[11] <= 2.115\\ngini = 0.659\\nsamples = 117\\nvalue = [41, 45, 31]'),\n",
              " Text(83.7, 135.9, 'gini = 0.0\\nsamples = 30\\nvalue = [0, 0, 30]'),\n",
              " Text(167.4, 135.9, 'X[12] <= 726.5\\ngini = 0.51\\nsamples = 87\\nvalue = [41, 45, 1]'),\n",
              " Text(83.7, 81.53999999999999, 'X[6] <= 0.925\\ngini = 0.046\\nsamples = 42\\nvalue = [0, 41, 1]'),\n",
              " Text(41.85, 27.180000000000007, 'gini = 0.0\\nsamples = 1\\nvalue = [0, 0, 1]'),\n",
              " Text(125.55000000000001, 27.180000000000007, 'gini = 0.0\\nsamples = 41\\nvalue = [0, 41, 0]'),\n",
              " Text(251.10000000000002, 81.53999999999999, 'X[9] <= 3.49\\ngini = 0.162\\nsamples = 45\\nvalue = [41, 4, 0]'),\n",
              " Text(209.25, 27.180000000000007, 'gini = 0.0\\nsamples = 4\\nvalue = [0, 4, 0]'),\n",
              " Text(292.95, 27.180000000000007, 'gini = 0.0\\nsamples = 41\\nvalue = [41, 0, 0]')]"
            ]
          },
          "metadata": {},
          "execution_count": 21
        },
        {
          "output_type": "display_data",
          "data": {
            "image/png": "[encoded data removed]",
            "text/plain": [
              "<Figure size 432x288 with 1 Axes>"
            ]
          },
          "metadata": {
            "needs_background": "light"
          }
        }
      ]
    }
  ]
}