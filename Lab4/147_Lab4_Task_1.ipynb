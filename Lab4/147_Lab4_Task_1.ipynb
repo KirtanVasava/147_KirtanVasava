{
  "nbformat": 4,
  "nbformat_minor": 0,
  "metadata": {
    "colab": {
      "name": "147_Lab4_Task_1.ipynb",
      "provenance": [],
      "authorship_tag": "ABX9TyO7aWMFM9NSjmtL65BCm4FT"
    },
    "kernelspec": {
      "name": "python3",
      "display_name": "Python 3"
    },
    "language_info": {
      "name": "python"
    }
  },
  "cells": [
    {
      "cell_type": "markdown",
      "metadata": {
        "id": "6mP5DJYY7LRN"
      },
      "source": [
        "\n",
        "Aim: Implement Decision Tree classifier\n",
        "\n",
        "1.Implement Decision Tree classifier using scikit learn library\n",
        "\n",
        "2.Test the classifier for Weather dataset"
      ]
    },
    {
      "cell_type": "code",
      "metadata": {
        "id": "wj20fZ1x62v8"
      },
      "source": [
        "from sklearn import preprocessing\n",
        "from sklearn.tree import DecisionTreeClassifier\n",
        "import pandas as pd\n",
        "import numpy as np"
      ],
      "execution_count": 1,
      "outputs": []
    },
    {
      "cell_type": "code",
      "metadata": {
        "id": "91T9pH5b7dBC"
      },
      "source": [
        "#Predictor variables\n",
        "Outlook = ['Rainy', 'Rainy', 'Overcast', 'Sunny', 'Sunny', 'Sunny', 'Overcast',\n",
        "            'Rainy', 'Rainy', 'Sunny', 'Rainy','Overcast', 'Overcast', 'Sunny']\n",
        "Temperature = ['Hot', 'Hot', 'Hot', 'Mild', 'Cool', 'Cool', 'Cool',\n",
        "                'Mild', 'Cool', 'Mild', 'Mild', 'Mild', 'Hot', 'Mild']\n",
        "Humidity = ['High', 'High', 'High', 'High', 'Normal', 'Normal', 'Normal',\n",
        "            'High', 'Normal', 'Normal', 'Normal', 'High', 'Normal', 'High']\n",
        "Wind = ['False', 'True', 'False', 'False', 'False', 'True', 'True',\n",
        "            'False', 'False', 'False', 'True', 'True', 'False', 'True']\n",
        "\n",
        "#Class Label:\n",
        "Play = ['No', 'No', 'Yes', 'Yes', 'Yes', 'No', 'Yes', 'No',\n",
        "'Yes', 'Yes', 'Yes', 'Yes', 'Yes', 'No']"
      ],
      "execution_count": 2,
      "outputs": []
    },
    {
      "cell_type": "code",
      "metadata": {
        "colab": {
          "base_uri": "https://localhost:8080/"
        },
        "id": "97CElGVz7f__",
        "outputId": "82e3d395-51d4-42b9-a8fc-f8d1a949a9d0"
      },
      "source": [
        "#creating labelEncoder\n",
        "le = preprocessing.LabelEncoder()\n",
        "\n",
        "# Converting string labels into numbers.\n",
        "Outlook_encoded = le.fit_transform(Outlook)\n",
        "Outlook_name_mapping = dict(zip(le.classes_, le.transform(le.classes_)))\n",
        "print(\"Outllok mapping:\",Outlook_name_mapping)\n",
        "\n",
        "Temperature_encoded = le.fit_transform(Temperature)\n",
        "Temperature_name_mapping = dict(zip(le.classes_, le.transform(le.classes_)))\n",
        "print(\"Temperature mapping:\",Temperature_name_mapping)\n",
        "\n",
        "Humidity_encoded = le.fit_transform(Humidity)\n",
        "Humidity_name_mapping = dict(zip(le.classes_, le.transform(le.classes_)))\n",
        "print(\"Humidity mapping:\",Humidity_name_mapping)\n",
        "\n",
        "Wind_encoded = le.fit_transform(Wind)\n",
        "Wind_name_mapping = dict(zip(le.classes_, le.transform(le.classes_)))\n",
        "print(\"Wind mapping:\",Wind_name_mapping)\n",
        "\n",
        "Play_encoded = le.fit_transform(Play)\n",
        "Play_name_mapping = dict(zip(le.classes_, le.transform(le.classes_)))\n",
        "print(\"Play mapping:\",Play_name_mapping)\n",
        "\n",
        "print(\"\\n\\n\")\n",
        "print(\"Weather:\" ,Outlook_encoded)\n",
        "print(\"Temerature:\" ,Temperature_encoded)\n",
        "print(\"Humidity:\" ,Humidity_encoded)\n",
        "print(\"Wind:\" ,Wind_encoded)\n",
        "print(\"Play:\" ,Play_encoded)"
      ],
      "execution_count": 3,
      "outputs": [
        {
          "output_type": "stream",
          "name": "stdout",
          "text": [
            "Outllok mapping: {'Overcast': 0, 'Rainy': 1, 'Sunny': 2}\n",
            "Temperature mapping: {'Cool': 0, 'Hot': 1, 'Mild': 2}\n",
            "Humidity mapping: {'High': 0, 'Normal': 1}\n",
            "Wind mapping: {'False': 0, 'True': 1}\n",
            "Play mapping: {'No': 0, 'Yes': 1}\n",
            "\n",
            "\n",
            "\n",
            "Weather: [1 1 0 2 2 2 0 1 1 2 1 0 0 2]\n",
            "Temerature: [1 1 1 2 0 0 0 2 0 2 2 2 1 2]\n",
            "Humidity: [0 0 0 0 1 1 1 0 1 1 1 0 1 0]\n",
            "Wind: [0 1 0 0 0 1 1 0 0 0 1 1 0 1]\n",
            "Play: [0 0 1 1 1 0 1 0 1 1 1 1 1 0]\n"
          ]
        }
      ]
    },
    {
      "cell_type": "code",
      "metadata": {
        "id": "6DftRUEO7jsl"
      },
      "source": [
        "X = np.vstack((Wind_encoded,Temperature_encoded,Humidity_encoded,Outlook_encoded)).T\n",
        "Data = pd.DataFrame(data=X,columns=[\"wind\",\"temp\",\"humidity\",\"outlook\"])\n",
        "Labels = pd.Series(data=Play_encoded,name=\"play\")"
      ],
      "execution_count": 4,
      "outputs": []
    },
    {
      "cell_type": "code",
      "metadata": {
        "colab": {
          "base_uri": "https://localhost:8080/"
        },
        "id": "pkeGgkpF7nOo",
        "outputId": "c2714267-06b2-4706-8c6b-2078993dc508"
      },
      "source": [
        "from sklearn.tree import DecisionTreeClassifier\n",
        "from sklearn.model_selection import train_test_split\n",
        "\n",
        "X_train, X_test, y_train, y_test=train_test_split(Data,Labels,test_size=0.4,random_state=147)\n",
        "\n",
        "clf = DecisionTreeClassifier(random_state=142,criterion='entropy')\n",
        "clf.fit(X_train,y_train)\n"
      ],
      "execution_count": 5,
      "outputs": [
        {
          "output_type": "execute_result",
          "data": {
            "text/plain": [
              "DecisionTreeClassifier(ccp_alpha=0.0, class_weight=None, criterion='entropy',\n",
              "                       max_depth=None, max_features=None, max_leaf_nodes=None,\n",
              "                       min_impurity_decrease=0.0, min_impurity_split=None,\n",
              "                       min_samples_leaf=1, min_samples_split=2,\n",
              "                       min_weight_fraction_leaf=0.0, presort='deprecated',\n",
              "                       random_state=142, splitter='best')"
            ]
          },
          "metadata": {},
          "execution_count": 5
        }
      ]
    },
    {
      "cell_type": "code",
      "metadata": {
        "colab": {
          "base_uri": "https://localhost:8080/"
        },
        "id": "lJOxNZlT7oF3",
        "outputId": "a196ddc5-40ca-4dfb-aa67-90c8eb49feaf"
      },
      "source": [
        "from sklearn.metrics import classification_report\n",
        "y_pred=clf.predict(X_test)\n",
        "\n",
        "print(classification_report(y_test,y_pred))"
      ],
      "execution_count": 6,
      "outputs": [
        {
          "output_type": "stream",
          "name": "stdout",
          "text": [
            "              precision    recall  f1-score   support\n",
            "\n",
            "           0       0.67      0.67      0.67         3\n",
            "           1       0.67      0.67      0.67         3\n",
            "\n",
            "    accuracy                           0.67         6\n",
            "   macro avg       0.67      0.67      0.67         6\n",
            "weighted avg       0.67      0.67      0.67         6\n",
            "\n"
          ]
        }
      ]
    },
    {
      "cell_type": "code",
      "metadata": {
        "colab": {
          "base_uri": "https://localhost:8080/",
          "height": 332
        },
        "id": "ANgjX8mU7rtj",
        "outputId": "99f12cb9-a2d4-407e-a849-a6180fb4d363"
      },
      "source": [
        "from sklearn.tree import export_graphviz\n",
        "from sklearn.tree import plot_tree\n",
        "\n",
        "\n",
        "plot_tree(clf,filled=True,rounded=True)\n",
        "\n"
      ],
      "execution_count": 7,
      "outputs": [
        {
          "output_type": "execute_result",
          "data": {
            "text/plain": [
              "[Text(200.88000000000002, 181.2, 'X[2] <= 0.5\\nentropy = 0.811\\nsamples = 8\\nvalue = [2, 6]'),\n",
              " Text(133.92000000000002, 108.72, 'X[3] <= 0.5\\nentropy = 1.0\\nsamples = 4\\nvalue = [2, 2]'),\n",
              " Text(66.96000000000001, 36.23999999999998, 'entropy = 0.0\\nsamples = 2\\nvalue = [0, 2]'),\n",
              " Text(200.88000000000002, 36.23999999999998, 'entropy = 0.0\\nsamples = 2\\nvalue = [2, 0]'),\n",
              " Text(267.84000000000003, 108.72, 'entropy = 0.0\\nsamples = 4\\nvalue = [0, 4]')]"
            ]
          },
          "metadata": {},
          "execution_count": 7
        },
        {
          "output_type": "display_data",
          "data": {
            "image/png": "[encoded data removed]",
            "text/plain": [
              "<Figure size 432x288 with 1 Axes>"
            ]
          },
          "metadata": {
            "needs_background": "light"
          }
        }
      ]
    }
  ]
}