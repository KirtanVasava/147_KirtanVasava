{
  "nbformat": 4,
  "nbformat_minor": 0,
  "metadata": {
    "colab": {
      "name": "PCAIrisDataset.ipynb",
      "provenance": [],
      "authorship_tag": "ABX9TyNjXDlsbrjpiyNS19DO0KmA"
    },
    "kernelspec": {
      "name": "python3",
      "display_name": "Python 3"
    },
    "language_info": {
      "name": "python"
    }
  },
  "cells": [
    {
      "cell_type": "code",
      "metadata": {
        "id": "x0RxD3jOKbkM"
      },
      "source": [
        ""
      ],
      "execution_count": null,
      "outputs": []
    },
    {
      "cell_type": "markdown",
      "metadata": {
        "id": "f798fc6b"
      },
      "source": [
        "## Assignment: Perform SVM with PCA operation on Iris Dataset."
      ]
    },
    {
      "cell_type": "code",
      "metadata": {
        "id": "c693ac4c"
      },
      "source": [
        "# Import required libraries\n",
        "import sys, os\n",
        "import matplotlib.pyplot as plt\n",
        "from sklearn import svm\n",
        "from sklearn.model_selection import train_test_split\n",
        "import pandas as pd\n",
        "from sklearn import decomposition\n",
        "import numpy as np\n",
        "from sklearn import metrics\n",
        "from sklearn.pipeline import Pipeline"
      ],
      "execution_count": 1,
      "outputs": []
    },
    {
      "cell_type": "code",
      "metadata": {
        "id": "c78a7153",
        "colab": {
          "base_uri": "https://localhost:8080/"
        },
        "outputId": "63b2d175-eaeb-4069-a6be-6ebd15782ca0"
      },
      "source": [
        "# Load iris cancer dataset\n",
        "from sklearn import datasets\n",
        "dataset = datasets.load_iris()\n",
        "dataset.data.shape"
      ],
      "execution_count": 2,
      "outputs": [
        {
          "output_type": "execute_result",
          "data": {
            "text/plain": [
              "(150, 4)"
            ]
          },
          "metadata": {},
          "execution_count": 2
        }
      ]
    },
    {
      "cell_type": "code",
      "metadata": {
        "id": "eb07521f",
        "colab": {
          "base_uri": "https://localhost:8080/"
        },
        "outputId": "5aed1438-6e1d-44b1-de8c-0ecc976b1bae"
      },
      "source": [
        "# Split the dataset into train and test\n",
        "df = pd.DataFrame(dataset.data,columns=dataset.feature_names)\n",
        "\n",
        "X_train, X_test, y_train, y_test = train_test_split(dataset.data, dataset.target, random_state=147)\n",
        "\n",
        "print(X_train.shape, X_test.shape)"
      ],
      "execution_count": 3,
      "outputs": [
        {
          "output_type": "stream",
          "name": "stdout",
          "text": [
            "(112, 4) (38, 4)\n"
          ]
        }
      ]
    },
    {
      "cell_type": "code",
      "metadata": {
        "id": "312c8cfd"
      },
      "source": [
        "# Performing preprocessing using PCA and output of PCA is given to the SVM as we are using Pipeline\n",
        "clf = Pipeline([('pca', decomposition.PCA(n_components=3, whiten=True)),\n",
        "                ('svm', svm.LinearSVC(C=1.0))])\n",
        "\n",
        "clf.fit(X_train, y_train)\n",
        "\n",
        "y_pred = clf.predict(X_test)"
      ],
      "execution_count": 4,
      "outputs": []
    },
    {
      "cell_type": "code",
      "metadata": {
        "id": "9d7e24b9",
        "colab": {
          "base_uri": "https://localhost:8080/"
        },
        "outputId": "32a01ce5-1447-40d2-d215-f8690e7665d8"
      },
      "source": [
        "# Confusion matrix\n",
        "print(metrics.confusion_matrix(y_pred, y_test))\n",
        "plt.show()"
      ],
      "execution_count": 5,
      "outputs": [
        {
          "output_type": "stream",
          "name": "stdout",
          "text": [
            "[[10  0  0]\n",
            " [ 0  7  0]\n",
            " [ 0  4 17]]\n"
          ]
        }
      ]
    },
    {
      "cell_type": "code",
      "metadata": {
        "id": "b2060d45",
        "colab": {
          "base_uri": "https://localhost:8080/"
        },
        "outputId": "819ac1c1-a787-45eb-e584-e3ff8ccec773"
      },
      "source": [
        "# CLassification report\n",
        "print(metrics.classification_report(y_test, y_pred))"
      ],
      "execution_count": 6,
      "outputs": [
        {
          "output_type": "stream",
          "name": "stdout",
          "text": [
            "              precision    recall  f1-score   support\n",
            "\n",
            "           0       1.00      1.00      1.00        10\n",
            "           1       1.00      0.64      0.78        11\n",
            "           2       0.81      1.00      0.89        17\n",
            "\n",
            "    accuracy                           0.89        38\n",
            "   macro avg       0.94      0.88      0.89        38\n",
            "weighted avg       0.91      0.89      0.89        38\n",
            "\n"
          ]
        }
      ]
    }
  ]
}