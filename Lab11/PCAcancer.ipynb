{
  "nbformat": 4,
  "nbformat_minor": 0,
  "metadata": {
    "colab": {
      "name": "PCAcancer.ipynb",
      "provenance": [],
      "authorship_tag": "ABX9TyPvaAKzK5OXhBbQypZjJgqb"
    },
    "kernelspec": {
      "name": "python3",
      "display_name": "Python 3"
    },
    "language_info": {
      "name": "python"
    }
  },
  "cells": [
    {
      "cell_type": "code",
      "metadata": {
        "id": "ULCV97XUJ4nD"
      },
      "source": [
        ""
      ],
      "execution_count": null,
      "outputs": []
    },
    {
      "cell_type": "markdown",
      "metadata": {
        "id": "3aa4d8dd"
      },
      "source": [
        "## Assignment: Perform SVM with PCA operation on Breast Cancer Dataset."
      ]
    },
    {
      "cell_type": "code",
      "metadata": {
        "id": "10a0898e"
      },
      "source": [
        "# Import required libraries\n",
        "import sys, os\n",
        "import matplotlib.pyplot as plt\n",
        "from sklearn import svm\n",
        "from sklearn.model_selection import train_test_split\n",
        "import pandas as pd\n",
        "from sklearn import decomposition\n",
        "import numpy as np\n",
        "from sklearn import metrics\n",
        "from sklearn.pipeline import Pipeline"
      ],
      "execution_count": 1,
      "outputs": []
    },
    {
      "cell_type": "code",
      "metadata": {
        "id": "9ab530cc",
        "colab": {
          "base_uri": "https://localhost:8080/"
        },
        "outputId": "6aeacce0-271a-46b4-f6c3-54aaad2c588d"
      },
      "source": [
        "# Load breast cancer dataset\n",
        "from sklearn import datasets\n",
        "dataset = datasets.load_breast_cancer()\n",
        "dataset.data.shape"
      ],
      "execution_count": 2,
      "outputs": [
        {
          "output_type": "execute_result",
          "data": {
            "text/plain": [
              "(569, 30)"
            ]
          },
          "metadata": {},
          "execution_count": 2
        }
      ]
    },
    {
      "cell_type": "code",
      "metadata": {
        "id": "c2d8de13",
        "colab": {
          "base_uri": "https://localhost:8080/"
        },
        "outputId": "29dc9386-fe3c-48e3-b968-6473550eb57c"
      },
      "source": [
        "# Split the dataset into train and test\n",
        "df = pd.DataFrame(dataset.data,columns=dataset.feature_names)\n",
        "\n",
        "X_train, X_test, y_train, y_test = train_test_split(dataset.data, dataset.target, random_state=147)\n",
        "\n",
        "print(X_train.shape, X_test.shape)"
      ],
      "execution_count": 3,
      "outputs": [
        {
          "output_type": "stream",
          "name": "stdout",
          "text": [
            "(426, 30) (143, 30)\n"
          ]
        }
      ]
    },
    {
      "cell_type": "code",
      "metadata": {
        "id": "a733077f"
      },
      "source": [
        "# Performing preprocessing using PCA and output of PCA is given to the SVM as we are using Pipeline\n",
        "clf = Pipeline([('pca', decomposition.PCA(n_components=20, whiten=True)),\n",
        "                ('svm', svm.LinearSVC(C=1.0))])\n",
        "\n",
        "clf.fit(X_train, y_train)\n",
        "\n",
        "y_pred = clf.predict(X_test)"
      ],
      "execution_count": 4,
      "outputs": []
    },
    {
      "cell_type": "code",
      "metadata": {
        "id": "aacb2ad1",
        "colab": {
          "base_uri": "https://localhost:8080/"
        },
        "outputId": "016627c8-38be-4650-f60c-f5573e2936d9"
      },
      "source": [
        "# Confusion Matrix\n",
        "print(metrics.confusion_matrix(y_pred, y_test))\n",
        "plt.show()"
      ],
      "execution_count": 5,
      "outputs": [
        {
          "output_type": "stream",
          "name": "stdout",
          "text": [
            "[[48  0]\n",
            " [ 7 88]]\n"
          ]
        }
      ]
    },
    {
      "cell_type": "code",
      "metadata": {
        "id": "9985b76f",
        "colab": {
          "base_uri": "https://localhost:8080/"
        },
        "outputId": "1fe6d912-9a2f-43e1-9125-33c7a04c08e9"
      },
      "source": [
        "# Classification report\n",
        "print(metrics.classification_report(y_test, y_pred))"
      ],
      "execution_count": 6,
      "outputs": [
        {
          "output_type": "stream",
          "name": "stdout",
          "text": [
            "              precision    recall  f1-score   support\n",
            "\n",
            "           0       1.00      0.87      0.93        55\n",
            "           1       0.93      1.00      0.96        88\n",
            "\n",
            "    accuracy                           0.95       143\n",
            "   macro avg       0.96      0.94      0.95       143\n",
            "weighted avg       0.95      0.95      0.95       143\n",
            "\n"
          ]
        }
      ]
    }
  ]
}